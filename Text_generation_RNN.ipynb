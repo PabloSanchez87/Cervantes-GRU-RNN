{
 "cells": [
  {
   "cell_type": "markdown",
   "metadata": {},
   "source": [
    "# Generación de texto con RNN (encoder-decoder) en TensorFlow"
   ]
  },
  {
   "cell_type": "markdown",
   "metadata": {},
   "source": [
    "## Imports"
   ]
  },
  {
   "cell_type": "code",
   "execution_count": 46,
   "metadata": {},
   "outputs": [],
   "source": [
    "import tensorflow as tf\n",
    "import numpy as np\n",
    "import os\n",
    "import time\n",
    "import pandas as pd\n",
    "import matplotlib.pyplot as plt\n",
    "import warnings\n",
    "from tensorflow.keras.optimizers import Adam\n",
    "from tensorflow.keras.metrics import Mean\n",
    "\n",
    "\n",
    "warnings.filterwarnings(\"ignore\")\n",
    "os.environ[\"TF_CPP_MIN_LOG_LEVEL\"] = \"2\"\n"
   ]
  },
  {
   "cell_type": "markdown",
   "metadata": {},
   "source": [
    "## Cargamos y extraemos el texto de Don Quijote "
   ]
  },
  {
   "cell_type": "code",
   "execution_count": 2,
   "metadata": {},
   "outputs": [],
   "source": [
    "# https://www.gutenberg.org/\n",
    "url_don_quijote = \"https://www.gutenberg.org/cache/epub/2000/pg2000.txt\"\n",
    "path_to_file = tf.keras.utils.get_file('don_quijote.txt', url_don_quijote)"
   ]
  },
  {
   "cell_type": "code",
   "execution_count": 3,
   "metadata": {},
   "outputs": [
    {
     "name": "stdout",
     "output_type": "stream",
     "text": [
      "Texto principal extraído. Longitud: 2110726\n",
      "Fragmento inicial:\n",
      " El ingenioso hidalgo don Quijote de la Mancha\n",
      "\n",
      "\n",
      "\n",
      "por Miguel de Cervantes Saavedra\n",
      "\n",
      "\n",
      "\n",
      "\n",
      "\n",
      "El ingenioso hidalgo don Quijote de la Mancha\n",
      "\n",
      "\n",
      "  \n",
      "Tasa\n",
      "\n",
      "  \n",
      "Testimonio de las erratas\n",
      "\n",
      "  \n",
      "El Rey\n",
      "\n",
      "  \n",
      "Al Duque de Béjar\n",
      "\n",
      "  \n",
      "Prólogo\n",
      "\n",
      "  \n",
      "Al libro de don Quijote de la Mancha\n",
      "\n",
      "\n",
      "\n",
      "Que trata de la condición y ejercicio del famoso\n",
      "hidalgo don Quijote de la Mancha\n",
      "\n",
      "Que trata de la primera salida que de su tierra hizo\n",
      "el ingenioso don Quijote\n",
      "\n",
      "Donde se cuenta la graciosa manera que tuvo don\n",
      "Quijote en armarse caballero\n",
      "...\n",
      "Fragmento final:\n",
      " en éstos como en los estraños reinos''. Y con esto cumplirás\n",
      "con tu cristiana profesión, aconsejando bien a quien mal te quiere, y yo\n",
      "quedaré satisfecho y ufano de haber sido el primero que gozó el fruto de\n",
      "sus escritos enteramente, como deseaba, pues no ha sido otro mi deseo que\n",
      "poner en aborrecimiento de los hombres las fingidas y disparatadas\n",
      "historias de los libros de caballerías, que, por las de mi verdadero don\n",
      "Quijote, van ya tropezando, y han de caer del todo, sin duda alguna. Vale.\n",
      "\n",
      "Fin\n"
     ]
    }
   ],
   "source": [
    "with open(path_to_file, \"r\", encoding=\"utf-8\") as f:\n",
    "    full_text = f.read()\n",
    "\n",
    "start_marker = \"*** START OF THE PROJECT GUTENBERG EBOOK DON QUIJOTE ***\"\n",
    "end_marker   = \"*** END OF THE PROJECT GUTENBERG EBOOK DON QUIJOTE ***\"\n",
    "\n",
    "start_index = full_text.find(start_marker)\n",
    "end_index   = full_text.find(end_marker)\n",
    "\n",
    "if start_index == -1 or end_index == -1:\n",
    "    # Si no se encuentran los marcadores:\n",
    "    print(\"No se han encontrado los marcadores en el texto. Revisa si la URL o el texto han cambiado.\")\n",
    "else:\n",
    "    # Extrae solo la parte que nos interesa\n",
    "    # Sumamos la longitud de start_marker para no quedarnos con la línea entera\n",
    "    main_text = full_text[start_index + len(start_marker):end_index]\n",
    "\n",
    "    # Limpiamos espacios o saltos de línea excesivos al inicio y final\n",
    "    main_text = main_text.strip()\n",
    "\n",
    "    print(\"Texto principal extraído. Longitud:\", len(main_text))\n",
    "    print(\"Fragmento inicial:\\n\", main_text[:500])\n",
    "    print(\"...\\nFragmento final:\\n\", main_text[-500:])"
   ]
  },
  {
   "cell_type": "markdown",
   "metadata": {},
   "source": [
    "## Preprocesamiento de datos"
   ]
  },
  {
   "cell_type": "markdown",
   "metadata": {},
   "source": [
    "### Crear el vocabulario de caracteres"
   ]
  },
  {
   "cell_type": "markdown",
   "metadata": {},
   "source": [
    "- Vamos a extraer todos los caracteres únicos del texto. Esto nos permitirá construir un vocabulario con el que podamos asignar un ID numérico a cada carácter."
   ]
  },
  {
   "cell_type": "code",
   "execution_count": 4,
   "metadata": {},
   "outputs": [
    {
     "name": "stdout",
     "output_type": "stream",
     "text": [
      "Caracteres únicos en el Quijote: 92\n",
      "['\\n', ' ', '!', '\"', \"'\", '(', ')', ',', '-', '.', '0', '1', '2', '3', '4', '5', '6', '7', ':', ';', '?', 'A', 'B', 'C', 'D', 'E', 'F', 'G', 'H', 'I', 'J', 'L', 'M', 'N', 'O', 'P', 'Q', 'R', 'S', 'T', 'U', 'V', 'W', 'X', 'Y', 'Z', ']', 'a', 'b', 'c', 'd', 'e', 'f', 'g', 'h', 'i', 'j', 'l', 'm', 'n', 'o', 'p', 'q', 'r', 's', 't', 'u', 'v', 'x', 'y', 'z', '¡', '«', '»', '¿', 'Á', 'É', 'Í', 'Ñ', 'Ó', 'Ú', 'à', 'á', 'é', 'í', 'ï', 'ñ', 'ó', 'ù', 'ú', 'ü', '—']\n"
     ]
    }
   ],
   "source": [
    "vocab = sorted(set(main_text))\n",
    "print(\"Caracteres únicos en el Quijote:\", len(vocab))\n",
    "print(vocab)"
   ]
  },
  {
   "cell_type": "markdown",
   "metadata": {},
   "source": [
    "### Mapear caracteres a enteros (y viceversa)"
   ]
  },
  {
   "cell_type": "markdown",
   "metadata": {},
   "source": [
    "#### Vectorización de caracteres con `StringLookup`\n",
    "\n",
    "Antes de entrenar el modelo, necesitamos transformar el texto en una forma que pueda ser procesada por una red neuronal. Para ello, utilizamos la capa [`StringLookup`](https://www.tensorflow.org/api_docs/python/tf/keras/layers/StringLookup) de Keras, que convierte caracteres en IDs numéricos y viceversa.\n",
    "\n",
    "Concretamente:\n",
    "\n",
    "- `ids_from_chars`: mapea cada carácter del texto a un número entero.\n",
    "- `chars_from_ids`: hace la operación inversa, recuperando el carácter original a partir del ID.\n",
    "\n",
    "Este mapeo es fundamental para:\n",
    "- Codificar el texto como secuencias numéricas que puedan ser entendidas por el modelo.\n",
    "- Convertir las predicciones del modelo (que serán también IDs) de vuelta a texto legible.\n",
    "\n",
    "##### ¿Qué es `[UNK]`?\n",
    "\n",
    "Cuando usamos `StringLookup`, cualquier carácter desconocido que no esté en el vocabulario se asigna por defecto al token `[UNK]` (abreviación de “unknown”). Esto permite manejar entradas inesperadas o erróneas sin que el modelo falle, aunque lo ideal es que el vocabulario contenga todos los caracteres relevantes del texto.\n",
    "\n",
    "En este caso, como extraemos los caracteres únicos directamente del texto original del Quijote, **el vocabulario está perfectamente alineado con los datos**, por lo que no deberíamos ver `[UNK]` en la práctica. Aun así, la capa lo reserva por defecto como una opción de seguridad."
   ]
  },
  {
   "cell_type": "code",
   "execution_count": 5,
   "metadata": {},
   "outputs": [
    {
     "name": "stderr",
     "output_type": "stream",
     "text": [
      "I0000 00:00:1743934365.966342    5215 gpu_device.cc:2019] Created device /job:localhost/replica:0/task:0/device:GPU:0 with 5558 MB memory:  -> device: 0, name: NVIDIA GeForce RTX 3070 Ti, pci bus id: 0000:01:00.0, compute capability: 8.6\n"
     ]
    }
   ],
   "source": [
    "# Crear el mapeo de caracteres a IDs\n",
    "ids_from_chars = tf.keras.layers.StringLookup(\n",
    "    vocabulary=list(vocab), mask_token=None\n",
    ")\n",
    "\n",
    "# Crear el mapeo inverso de IDs a caracteres\n",
    "chars_from_ids = tf.keras.layers.StringLookup(\n",
    "    vocabulary=ids_from_chars.get_vocabulary(), invert=True, mask_token=None\n",
    ")\n",
    "\n",
    "# Función para convertir una secuencia de IDs a texto\n",
    "def text_from_ids(ids):\n",
    "    return tf.strings.reduce_join(chars_from_ids(ids), axis=-1)\n"
   ]
  },
  {
   "cell_type": "code",
   "execution_count": 6,
   "metadata": {},
   "outputs": [
    {
     "data": {
      "text/plain": [
       "(keras.src.layers.preprocessing.string_lookup.StringLookup,\n",
       " keras.src.layers.preprocessing.string_lookup.StringLookup)"
      ]
     },
     "execution_count": 6,
     "metadata": {},
     "output_type": "execute_result"
    }
   ],
   "source": [
    "# Estas capas son muy útiles porque permiten mantener la trazabilidad entre el texto original y las representaciones numéricas que procesará el modelo.\n",
    "type(chars_from_ids), type(ids_from_chars)"
   ]
  },
  {
   "cell_type": "markdown",
   "metadata": {},
   "source": [
    "#### Visualización del mapeo"
   ]
  },
  {
   "cell_type": "markdown",
   "metadata": {},
   "source": [
    "Para comprobar que la codificación y decodificación funcionan correctamente, mostramos un ejemplo sencillo.\n",
    "\n",
    "Esto nos permite ver que:\n",
    "\n",
    "- El texto `\"Don Quijote\"` se convierte en una secuencia de enteros.\n",
    "- Esa secuencia puede ser transformada de nuevo en el texto original, garantizando que el mapeo es bidireccional y preciso.\n",
    "\n",
    "Esta visualización es útil como prueba de validación antes de continuar con el preprocesamiento del corpus completo."
   ]
  },
  {
   "cell_type": "code",
   "execution_count": 7,
   "metadata": {},
   "outputs": [
    {
     "name": "stdout",
     "output_type": "stream",
     "text": [
      "Caracteres: [b'D' b'o' b'n' b' ' b'Q' b'u' b'i' b'j' b'o' b't' b'e']\n",
      "IDs: [25 61 60  2 37 67 56 57 61 66 52]\n",
      "Reconstruido: [b'D' b'o' b'n' b' ' b'Q' b'u' b'i' b'j' b'o' b't' b'e']\n"
     ]
    }
   ],
   "source": [
    "example_chars = tf.constant(list(\"Don Quijote\"))\n",
    "char_ids = ids_from_chars(example_chars)\n",
    "reconstructed = chars_from_ids(char_ids)\n",
    "\n",
    "print(\"Caracteres:\", example_chars.numpy())\n",
    "print(\"IDs:\", char_ids.numpy())\n",
    "print(\"Reconstruido:\", reconstructed.numpy())\n"
   ]
  },
  {
   "cell_type": "markdown",
   "metadata": {},
   "source": [
    "### Conversión del texto completo a IDs y verificación visual"
   ]
  },
  {
   "cell_type": "markdown",
   "metadata": {},
   "source": [
    "Aplicamos ahora `ids_from_chars` a todo el texto para convertir cada carácter en un ID numérico, generando así la secuencia completa que servirá como entrada para el modelo.\n",
    "\n",
    "Esto transforma el corpus textual en una serie de números enteros que codifican el texto carácter por carácter, preservando el estilo y la estructura.\n",
    "\n",
    "- Verificación\n",
    "\n",
    "    Para asegurarnos de que esta conversión es correcta:\n",
    "\n",
    "    - Mostramos los primeros 40 caracteres del texto y sus correspondientes IDs.\n",
    "    - Reconstruimos esos IDs de nuevo a texto usando `chars_from_ids`.\n",
    "    - Visualizamos ambos (carácter e ID) en una tabla para confirmar que el proceso de codificación y decodificación es simétrico.\n",
    "\n",
    "    Esto es crucial para garantizar que el modelo reciba los datos en el formato correcto, y que luego podamos interpretar sus predicciones sin ambigüedades.\n"
   ]
  },
  {
   "cell_type": "code",
   "execution_count": 8,
   "metadata": {},
   "outputs": [
    {
     "name": "stdout",
     "output_type": "stream",
     "text": [
      "· Primeros 10 IDs: [26 58  2 56 60 54 52 60 56 61 65 61  2 55 56 51 48 58 54 61  2 51 61 60\n",
      "  2 37 67 56 57 61 66 52  2 51 52  2 58 48  2 33]\n",
      "\n",
      "· Reconstrucción: El ingenioso hidalgo don Quijote de la M\n"
     ]
    }
   ],
   "source": [
    "# Convertimos el texto completo a una secuencia de IDs (enteros)\n",
    "all_ids = ids_from_chars(tf.strings.unicode_split(main_text, input_encoding=\"UTF-8\"))\n",
    "\n",
    "# Verificación rápida\n",
    "print(\"· Primeros 10 IDs:\", all_ids[:40].numpy())\n",
    "print(\"\\n· Reconstrucción:\", text_from_ids(all_ids[:40]).numpy().decode(\"utf-8\"))\n"
   ]
  },
  {
   "cell_type": "code",
   "execution_count": 9,
   "metadata": {},
   "outputs": [
    {
     "data": {
      "text/html": [
       "<div>\n",
       "<style scoped>\n",
       "    .dataframe tbody tr th:only-of-type {\n",
       "        vertical-align: middle;\n",
       "    }\n",
       "\n",
       "    .dataframe tbody tr th {\n",
       "        vertical-align: top;\n",
       "    }\n",
       "\n",
       "    .dataframe thead th {\n",
       "        text-align: right;\n",
       "    }\n",
       "</style>\n",
       "<table border=\"1\" class=\"dataframe\">\n",
       "  <thead>\n",
       "    <tr style=\"text-align: right;\">\n",
       "      <th></th>\n",
       "      <th>0</th>\n",
       "      <th>1</th>\n",
       "      <th>2</th>\n",
       "      <th>3</th>\n",
       "      <th>4</th>\n",
       "      <th>5</th>\n",
       "      <th>6</th>\n",
       "      <th>7</th>\n",
       "      <th>8</th>\n",
       "      <th>9</th>\n",
       "      <th>...</th>\n",
       "      <th>30</th>\n",
       "      <th>31</th>\n",
       "      <th>32</th>\n",
       "      <th>33</th>\n",
       "      <th>34</th>\n",
       "      <th>35</th>\n",
       "      <th>36</th>\n",
       "      <th>37</th>\n",
       "      <th>38</th>\n",
       "      <th>39</th>\n",
       "    </tr>\n",
       "  </thead>\n",
       "  <tbody>\n",
       "    <tr>\n",
       "      <th>Carácter</th>\n",
       "      <td>E</td>\n",
       "      <td>l</td>\n",
       "      <td></td>\n",
       "      <td>i</td>\n",
       "      <td>n</td>\n",
       "      <td>g</td>\n",
       "      <td>e</td>\n",
       "      <td>n</td>\n",
       "      <td>i</td>\n",
       "      <td>o</td>\n",
       "      <td>...</td>\n",
       "      <td>t</td>\n",
       "      <td>e</td>\n",
       "      <td></td>\n",
       "      <td>d</td>\n",
       "      <td>e</td>\n",
       "      <td></td>\n",
       "      <td>l</td>\n",
       "      <td>a</td>\n",
       "      <td></td>\n",
       "      <td>M</td>\n",
       "    </tr>\n",
       "    <tr>\n",
       "      <th>ID</th>\n",
       "      <td>26</td>\n",
       "      <td>58</td>\n",
       "      <td>2</td>\n",
       "      <td>56</td>\n",
       "      <td>60</td>\n",
       "      <td>54</td>\n",
       "      <td>52</td>\n",
       "      <td>60</td>\n",
       "      <td>56</td>\n",
       "      <td>61</td>\n",
       "      <td>...</td>\n",
       "      <td>66</td>\n",
       "      <td>52</td>\n",
       "      <td>2</td>\n",
       "      <td>51</td>\n",
       "      <td>52</td>\n",
       "      <td>2</td>\n",
       "      <td>58</td>\n",
       "      <td>48</td>\n",
       "      <td>2</td>\n",
       "      <td>33</td>\n",
       "    </tr>\n",
       "  </tbody>\n",
       "</table>\n",
       "<p>2 rows × 40 columns</p>\n",
       "</div>"
      ],
      "text/plain": [
       "          0   1  2   3   4   5   6   7   8   9   ...  30  31 32  33  34 35  \\\n",
       "Carácter   E   l      i   n   g   e   n   i   o  ...   t   e      d   e      \n",
       "ID        26  58  2  56  60  54  52  60  56  61  ...  66  52  2  51  52  2   \n",
       "\n",
       "          36  37 38  39  \n",
       "Carácter   l   a      M  \n",
       "ID        58  48  2  33  \n",
       "\n",
       "[2 rows x 40 columns]"
      ]
     },
     "execution_count": 9,
     "metadata": {},
     "output_type": "execute_result"
    }
   ],
   "source": [
    "df = pd.DataFrame({\n",
    "    \"Carácter\": list(main_text[:40]),\n",
    "    \"ID\": all_ids[:40].numpy()\n",
    "})\n",
    "df.transpose()"
   ]
  },
  {
   "cell_type": "markdown",
   "metadata": {},
   "source": [
    "### Crear secuencias a partir del texto vectorizado"
   ]
  },
  {
   "cell_type": "markdown",
   "metadata": {},
   "source": [
    "Ya hemos transformado el texto completo en una secuencia de IDs (`all_ids`).  \n",
    "Ahora necesitamos dividir esa secuencia larga en **subsecuencias de longitud fija**, que representarán:\n",
    "\n",
    "- El **input** que le damos al modelo\n",
    "- Y el **target** que esperamos que prediga (el siguiente carácter tras cada input)\n"
   ]
  },
  {
   "cell_type": "markdown",
   "metadata": {},
   "source": [
    "¿Cómo se hace?\n",
    "\n",
    "1. Elegimos un valor de `seq_length`, por ejemplo 250.  \n",
    "2. Tomamos fragmentos consecutivos del tipo:\n",
    "   - Input: los primeros 250 caracteres\n",
    "   - Target: los mismos 250 desplazados una posición hacia adelante\n",
    "\n",
    "    Ejemplo simplificado con `seq_length = 5`:\n",
    "\n",
    "    | Input IDs     | Target IDs    |\n",
    "    |---------------|---------------|\n",
    "    | [1, 2, 3, 4, 5] | [2, 3, 4, 5, 6] |"
   ]
  },
  {
   "cell_type": "markdown",
   "metadata": {},
   "source": [
    "#### Preparación con `tf.data.Dataset`\n",
    "\n",
    "- TensorFlow nos permite convertir directamente la secuencia de enteros (`all_ids`) en un dataset eficiente usando `tf.data.Dataset.from_tensor_slices()`.  \n",
    "- Luego agrupamos por ventanas de longitud `seq_length + 1`, y usamos una función auxiliar para separar cada fragmento en `(input, target)`.\n",
    "\n",
    "Al final, barajamos y preparamos el dataset en batches para el entrenamiento."
   ]
  },
  {
   "cell_type": "code",
   "execution_count": 10,
   "metadata": {},
   "outputs": [
    {
     "name": "stdout",
     "output_type": "stream",
     "text": [
      "🔹 Input (primeros 50 caracteres):\n",
      "IDs del input: [26 58  2 56 60 54 52 60 56 61]\n",
      "'El ingenioso hidalgo don Quijote de la Mancha\\n\\n\\n\\np'\n",
      "\n",
      "🔸 Target (primeros 50 caracteres):\n",
      "IDs del target: [58  2 56 60 54 52 60 56 61 65]\n",
      "'l ingenioso hidalgo don Quijote de la Mancha\\n\\n\\n\\npo'\n"
     ]
    },
    {
     "name": "stderr",
     "output_type": "stream",
     "text": [
      "2025-04-06 12:12:46.629537: I tensorflow/core/framework/local_rendezvous.cc:407] Local rendezvous is aborting with status: OUT_OF_RANGE: End of sequence\n"
     ]
    }
   ],
   "source": [
    "# Longitud de cada secuencia de entrada (puedes cambiarlo)\n",
    "seq_length = 250\n",
    "\n",
    "# Dividimos la secuencia en segmentos de longitud seq_length + 1\n",
    "sequences = tf.data.Dataset.from_tensor_slices(all_ids)\n",
    "sequences = sequences.batch(seq_length + 1, drop_remainder=True)\n",
    "\n",
    "# Función que separa input y target\n",
    "def split_input_target(seq):\n",
    "    input_seq = seq[:-1]   # todos excepto el último\n",
    "    target_seq = seq[1:]   # todos excepto el primero\n",
    "    return input_seq, target_seq\n",
    "\n",
    "# Aplicamos la transformación\n",
    "dataset = sequences.map(split_input_target)\n",
    "\n",
    "# Verificación más clara y acotada\n",
    "for input_example, target_example in dataset.take(1):\n",
    "    input_text = text_from_ids(input_example).numpy().decode(\"utf-8\")\n",
    "    target_text = text_from_ids(target_example).numpy().decode(\"utf-8\")\n",
    "\n",
    "    print(\"🔹 Input (primeros 50 caracteres):\")\n",
    "    print(\"IDs del input:\", input_example[:10].numpy())\n",
    "    print(repr(input_text[:50]))\n",
    "    print(\"\\n🔸 Target (primeros 50 caracteres):\")\n",
    "    print(\"IDs del target:\", target_example[:10].numpy())\n",
    "    print(repr(target_text[:50]))\n",
    "\n"
   ]
  },
  {
   "cell_type": "markdown",
   "metadata": {},
   "source": [
    "## Preparar el dataset para entrenamiento"
   ]
  },
  {
   "cell_type": "markdown",
   "metadata": {},
   "source": [
    "- Una vez generadas las secuencias `(input, target)`, es hora de preparar el dataset para que pueda ser usado durante el entrenamiento del modelo de forma eficiente.\n"
   ]
  },
  {
   "cell_type": "markdown",
   "metadata": {},
   "source": [
    "**¿Qué pasos seguimos?**\n",
    "\n",
    "1. **Mezclar (shuffle)**  \n",
    "    - Esto evita que el modelo aprenda dependencias artificiales del orden original del texto.\n",
    "    - Usamos un búfer grande para garantizar una mezcla adecuada (por ejemplo, 10.000 elementos).\n",
    "\n",
    "2. **Agrupar en batches**  \n",
    "    - Procesamos varios ejemplos a la vez durante el entrenamiento.\n",
    "    - Esto acelera el proceso y permite que el modelo aprenda de patrones en paralelo.\n",
    "\n",
    "3. **Prefetching**  \n",
    "    - Prepara los siguientes batches mientras se entrena con los actuales.\n",
    "    - Mejora el rendimiento y reduce el tiempo de espera entre pasos de entrenamiento.\n",
    "\n",
    "Con esta preparación, el dataset estará optimizado tanto en términos de memoria como de velocidad de procesamiento."
   ]
  },
  {
   "cell_type": "code",
   "execution_count": 11,
   "metadata": {},
   "outputs": [
    {
     "name": "stdout",
     "output_type": "stream",
     "text": [
      "Total de batches: 65\n",
      "Shape del input: (128, 250)\n",
      "Shape del target: (128, 250)\n"
     ]
    },
    {
     "name": "stderr",
     "output_type": "stream",
     "text": [
      "2025-04-06 12:12:47.652088: I tensorflow/core/framework/local_rendezvous.cc:407] Local rendezvous is aborting with status: OUT_OF_RANGE: End of sequence\n"
     ]
    }
   ],
   "source": [
    "# Parámetros\n",
    "BATCH_SIZE = 128\n",
    "BUFFER_SIZE = 10000\n",
    "\n",
    "# Mezclamos, agrupamos en batches y activamos prefetching\n",
    "dataset = (\n",
    "    dataset\n",
    "    .shuffle(BUFFER_SIZE)\n",
    "    .batch(BATCH_SIZE, drop_remainder=True)\n",
    "    .prefetch(tf.data.experimental.AUTOTUNE)\n",
    ")\n",
    "\n",
    "# Dividir el dataset en entrenamiento y validación\n",
    "total_batches = dataset.cardinality().numpy()\n",
    "print(\"Total de batches:\", total_batches)\n",
    "val_batches = total_batches // 10  # 10% para validación\n",
    "val_dataset = dataset.take(val_batches)\n",
    "train_dataset = dataset.skip(val_batches)\n",
    "\n",
    "# Verificamos la estructura final del dataset\n",
    "for input_batch, target_batch in dataset.take(1):\n",
    "    print(\"Shape del input:\", input_batch.shape)\n",
    "    print(\"Shape del target:\", target_batch.shape)\n"
   ]
  },
  {
   "cell_type": "markdown",
   "metadata": {},
   "source": [
    "## Definir el modelo RNN\n",
    "\n"
   ]
  },
  {
   "cell_type": "markdown",
   "metadata": {},
   "source": [
    "- Ya tenemos los datos listos. Ahora construiremos el modelo neuronal que será capaz de **predecir el siguiente carácter** dado un fragmento previo.\n"
   ]
  },
  {
   "cell_type": "markdown",
   "metadata": {},
   "source": [
    "### Arquitectura utilizada\n",
    "\n",
    "Definimos el modelo como una subclase de `tf.keras.Model`. Está compuesto por tres capas principales:\n",
    "\n",
    "1. **`Embedding`**  \n",
    "   Convierte IDs de caracteres en vectores densos de dimensión fija. Esto permite al modelo aprender representaciones útiles de cada carácter.\n",
    "\n",
    "2. **`GRU` (Gated Recurrent Unit)**  \n",
    "   Capa recurrente que captura relaciones temporales.  \n",
    "   La configuramos con `return_sequences=True` y `return_state=True` para que devuelva toda la secuencia de salidas y el estado final (cuando lo necesitemos).\n",
    "\n",
    "3. **`Dense`**  \n",
    "   Capa de salida que produce una predicción de probabilidad para cada carácter del vocabulario.\n",
    "\n",
    "### Hiperparámetros\n",
    "\n",
    "- `vocab_size`: cantidad total de caracteres únicos que reconoce el modelo.\n",
    "- `embedding_dim`: dimensión de los vectores de embedding.\n",
    "- `rnn_units`: número de neuronas en la GRU.\n",
    "\n",
    "Esta arquitectura, aunque sencilla, es adecuada para generar texto en el estilo del Quijote.\n"
   ]
  },
  {
   "cell_type": "code",
   "execution_count": 12,
   "metadata": {},
   "outputs": [
    {
     "name": "stdout",
     "output_type": "stream",
     "text": [
      "Shape del input: (128, 250)\n",
      "Shape del output: (128, 250, 93)\n"
     ]
    },
    {
     "name": "stderr",
     "output_type": "stream",
     "text": [
      "I0000 00:00:1743934369.957781    5673 cuda_dnn.cc:529] Loaded cuDNN version 90800\n"
     ]
    }
   ],
   "source": [
    "# ------------------------------------------------------------\n",
    "# Hiperparámetros del modelo\n",
    "# ------------------------------------------------------------\n",
    "\n",
    "# Número total de caracteres únicos (vocabulario del modelo)\n",
    "# Incluye el token especial [UNK] usado por StringLookup\n",
    "vocab_size = len(ids_from_chars.get_vocabulary())\n",
    "\n",
    "# Dimensión de los vectores de embedding (puedes ajustar)\n",
    "embedding_dim = 128\n",
    "\n",
    "# Número de unidades en la GRU (tamaño del estado oculto)\n",
    "rnn_units = 1250 \n",
    "\n",
    "# ------------------------------------------------------------\n",
    "# Definición del modelo como subclase de tf.keras.Model\n",
    "# ------------------------------------------------------------\n",
    "class MyModel(tf.keras.Model):\n",
    "    def __init__(self, vocab_size, embedding_dim, rnn_units):\n",
    "        super().__init__()  # Inicializa la clase base tf.keras.Model\n",
    "\n",
    "        # Capa de Embedding: transforma cada ID en un vector denso\n",
    "        self.embedding = tf.keras.layers.Embedding(\n",
    "            input_dim=vocab_size,\n",
    "            output_dim=embedding_dim\n",
    "        )\n",
    "\n",
    "        # Capa GRU: procesa secuencias manteniendo memoria a lo largo del tiempo\n",
    "        self.gru = tf.keras.layers.GRU(\n",
    "            units=rnn_units,\n",
    "            return_sequences=True,  # Devuelve salida en cada paso\n",
    "            return_state=True       # También devuelve el estado final\n",
    "        )\n",
    "\n",
    "        # Capa densa final: proyecta la salida de la GRU a un vector del tamaño del vocabulario\n",
    "        self.dense = tf.keras.layers.Dense(units=vocab_size)\n",
    "\n",
    "    def call(self, inputs, states=None, return_state=False, training=False):\n",
    "        # 1. Embedding\n",
    "        x = self.embedding(inputs, training=training)\n",
    "        # 2. Procesamiento con GRU\n",
    "        outputs = self.gru(x, initial_state=states, training=training)\n",
    "        if return_state:\n",
    "            x, states = outputs  # Desempaqueta (output_sequence, estado_final)\n",
    "            x = self.dense(x, training=training)\n",
    "            return x, states\n",
    "        else:\n",
    "            x = outputs[0] if isinstance(outputs, tuple) else outputs\n",
    "            x = self.dense(x, training=training)\n",
    "            return x\n",
    "\n",
    "# ------------------------------------------------------------\n",
    "# Creamos una instancia del modelo\n",
    "# ------------------------------------------------------------\n",
    "\n",
    "model = MyModel(\n",
    "    vocab_size=vocab_size,\n",
    "    embedding_dim=embedding_dim,\n",
    "    rnn_units=rnn_units\n",
    ")\n",
    "\n",
    "# ------------------------------------------------------------\n",
    "# Verificamos la forma de entrada y salida con un batch\n",
    "# ------------------------------------------------------------\n",
    "\n",
    "for input_example_batch, _ in dataset.take(1):\n",
    "    example_batch_predictions = model(input_example_batch)\n",
    "\n",
    "# Mostramos la forma esperada\n",
    "print(\"Shape del input:\", input_example_batch.shape)         # (batch_size, seq_length)\n",
    "print(\"Shape del output:\", example_batch_predictions.shape)  # (batch_size, seq_length, vocab_size)\n"
   ]
  },
  {
   "cell_type": "markdown",
   "metadata": {},
   "source": [
    "### Ejemplo de predicción antes del entrenamiento"
   ]
  },
  {
   "cell_type": "markdown",
   "metadata": {},
   "source": [
    "\n",
    "\n",
    "Antes de entrenar el modelo, es útil observar cómo se comporta al recibir una secuencia de entrada.  \n",
    "Aunque aún no ha aprendido nada útil, **sí nos permite verificar** que la arquitectura está funcionando correctamente.\n",
    "\n",
    "¿Qué haremos?\n",
    "\n",
    "1. Tomamos una secuencia real del dataset como entrada.\n",
    "2. Pasamos esta secuencia por el modelo.\n",
    "3. Obtenemos las predicciones para cada carácter.\n",
    "4. Usamos `tf.random.categorical` para **muestrear** los próximos caracteres según las probabilidades predichas.\n",
    "5. Visualizamos y comparamos los resultados.\n",
    "\n",
    "Este proceso nos ayuda a **entender cómo genera texto carácter a carácter**, y servirá como referencia visual para comparar más adelante con el modelo ya entrenado.\n"
   ]
  },
  {
   "cell_type": "code",
   "execution_count": 13,
   "metadata": {},
   "outputs": [
    {
     "name": "stdout",
     "output_type": "stream",
     "text": [
      "📝 Entrada:\n",
      "  y que todo ha de ser errar\n",
      "vos y perdonaros yo? Pues no lo penséis, bellaco descomulgado, que sin duda\n",
      "lo estás, pues has puesto lengua en la sin par Dulcinea. ¿Y no sabéis vos,\n",
      "gañán, faquín, belitre, que si no fuese por el valor que ella infunde e\n",
      "\n",
      "🤖 Predicción (aún sin entrenar):\n",
      " ÁCVJHÑ 3ÚúnmWeñÑédccjRJùlí1Í[UNK]QqhRT]: \n",
      "R5ÑÁNQ!R¿nZyun(LàZQ,ùÁAPSd«Dcùmù!5PodÚásBo»1W\n",
      "GÉ2UméH—A?c\"02il4Ujq)vá\"xl\n",
      "àïÓíEÚsJ,Ét5nvñÓ:jbl5?Díñm\"duGNgd6l«ñ¿,MÁXzvG:;RQlCní;WxpVf'!f6F—jú3yuñï[UNK]Ó,:xÉnM.PÚ!úp:6mZ.r)Íf7.ñZñYJír0c)(J«zBàYÁ27BDD.IXWQheGú4qaPAFFüid\n"
     ]
    },
    {
     "name": "stderr",
     "output_type": "stream",
     "text": [
      "2025-04-06 12:12:51.165766: I tensorflow/core/framework/local_rendezvous.cc:407] Local rendezvous is aborting with status: OUT_OF_RANGE: End of sequence\n"
     ]
    }
   ],
   "source": [
    "# ------------------------------------------------------------\n",
    "# Seleccionamos un batch de ejemplo y obtenemos las predicciones\n",
    "# ------------------------------------------------------------\n",
    "for input_example_batch, _ in dataset.take(1):\n",
    "    predictions = model(input_example_batch)  # (batch_size, seq_length, vocab_size)\n",
    "    input_example = input_example_batch[0]    # Tomamos solo una secuencia\n",
    "    prediction_logits = predictions[0]        # Logits predichos para esa secuencia (shape: [seq_length, vocab_size])\n",
    "\n",
    "# ------------------------------------------------------------\n",
    "# Usamos tf.random.categorical para muestrear los próximos caracteres\n",
    "# ------------------------------------------------------------\n",
    "\n",
    "# Para cada paso de la secuencia, elegimos un carácter basado en la distribución predicha\n",
    "sampled_indices = tf.random.categorical(prediction_logits, num_samples=1)\n",
    "sampled_indices = tf.squeeze(sampled_indices, axis=-1).numpy()\n",
    "\n",
    "# ------------------------------------------------------------\n",
    "# Mostramos la entrada y lo que el modelo \"predice\" como próximos caracteres\n",
    "# ------------------------------------------------------------\n",
    "\n",
    "input_text = text_from_ids(input_example).numpy().decode(\"utf-8\")\n",
    "predicted_text = text_from_ids(sampled_indices).numpy().decode(\"utf-8\")\n",
    "\n",
    "print(\"📝 Entrada:\\n\", input_text)\n",
    "print(\"\\n🤖 Predicción (aún sin entrenar):\\n\", predicted_text)\n"
   ]
  },
  {
   "cell_type": "code",
   "execution_count": 14,
   "metadata": {},
   "outputs": [
    {
     "data": {
      "text/html": [
       "<div>\n",
       "<style scoped>\n",
       "    .dataframe tbody tr th:only-of-type {\n",
       "        vertical-align: middle;\n",
       "    }\n",
       "\n",
       "    .dataframe tbody tr th {\n",
       "        vertical-align: top;\n",
       "    }\n",
       "\n",
       "    .dataframe thead th {\n",
       "        text-align: right;\n",
       "    }\n",
       "</style>\n",
       "<table border=\"1\" class=\"dataframe\">\n",
       "  <thead>\n",
       "    <tr style=\"text-align: right;\">\n",
       "      <th></th>\n",
       "      <th>Entrada</th>\n",
       "      <th>Predicción</th>\n",
       "    </tr>\n",
       "  </thead>\n",
       "  <tbody>\n",
       "    <tr>\n",
       "      <th>0</th>\n",
       "      <td></td>\n",
       "      <td>Á</td>\n",
       "    </tr>\n",
       "    <tr>\n",
       "      <th>1</th>\n",
       "      <td>y</td>\n",
       "      <td>C</td>\n",
       "    </tr>\n",
       "    <tr>\n",
       "      <th>2</th>\n",
       "      <td></td>\n",
       "      <td>V</td>\n",
       "    </tr>\n",
       "    <tr>\n",
       "      <th>3</th>\n",
       "      <td>q</td>\n",
       "      <td>J</td>\n",
       "    </tr>\n",
       "    <tr>\n",
       "      <th>4</th>\n",
       "      <td>u</td>\n",
       "      <td>H</td>\n",
       "    </tr>\n",
       "    <tr>\n",
       "      <th>5</th>\n",
       "      <td>e</td>\n",
       "      <td>Ñ</td>\n",
       "    </tr>\n",
       "    <tr>\n",
       "      <th>6</th>\n",
       "      <td></td>\n",
       "      <td></td>\n",
       "    </tr>\n",
       "    <tr>\n",
       "      <th>7</th>\n",
       "      <td>t</td>\n",
       "      <td>3</td>\n",
       "    </tr>\n",
       "    <tr>\n",
       "      <th>8</th>\n",
       "      <td>o</td>\n",
       "      <td>Ú</td>\n",
       "    </tr>\n",
       "    <tr>\n",
       "      <th>9</th>\n",
       "      <td>d</td>\n",
       "      <td>ú</td>\n",
       "    </tr>\n",
       "    <tr>\n",
       "      <th>10</th>\n",
       "      <td>o</td>\n",
       "      <td>n</td>\n",
       "    </tr>\n",
       "    <tr>\n",
       "      <th>11</th>\n",
       "      <td></td>\n",
       "      <td>m</td>\n",
       "    </tr>\n",
       "    <tr>\n",
       "      <th>12</th>\n",
       "      <td>h</td>\n",
       "      <td>W</td>\n",
       "    </tr>\n",
       "    <tr>\n",
       "      <th>13</th>\n",
       "      <td>a</td>\n",
       "      <td>e</td>\n",
       "    </tr>\n",
       "    <tr>\n",
       "      <th>14</th>\n",
       "      <td></td>\n",
       "      <td>ñ</td>\n",
       "    </tr>\n",
       "    <tr>\n",
       "      <th>15</th>\n",
       "      <td>d</td>\n",
       "      <td>Ñ</td>\n",
       "    </tr>\n",
       "    <tr>\n",
       "      <th>16</th>\n",
       "      <td>e</td>\n",
       "      <td>é</td>\n",
       "    </tr>\n",
       "    <tr>\n",
       "      <th>17</th>\n",
       "      <td></td>\n",
       "      <td>d</td>\n",
       "    </tr>\n",
       "    <tr>\n",
       "      <th>18</th>\n",
       "      <td>s</td>\n",
       "      <td>c</td>\n",
       "    </tr>\n",
       "    <tr>\n",
       "      <th>19</th>\n",
       "      <td>e</td>\n",
       "      <td>c</td>\n",
       "    </tr>\n",
       "  </tbody>\n",
       "</table>\n",
       "</div>"
      ],
      "text/plain": [
       "   Entrada Predicción\n",
       "0                   Á\n",
       "1        y          C\n",
       "2                   V\n",
       "3        q          J\n",
       "4        u          H\n",
       "5        e          Ñ\n",
       "6                    \n",
       "7        t          3\n",
       "8        o          Ú\n",
       "9        d          ú\n",
       "10       o          n\n",
       "11                  m\n",
       "12       h          W\n",
       "13       a          e\n",
       "14                  ñ\n",
       "15       d          Ñ\n",
       "16       e          é\n",
       "17                  d\n",
       "18       s          c\n",
       "19       e          c"
      ]
     },
     "metadata": {},
     "output_type": "display_data"
    }
   ],
   "source": [
    "# Comparación carácter a carácter\n",
    "char_comparisons = []\n",
    "\n",
    "for inp, pred in zip(input_text, predicted_text):\n",
    "    char_comparisons.append({\"Entrada\": inp, \"Predicción\": pred})\n",
    "\n",
    "# Mostrar en tabla (útil para detectar patrones o errores)\n",
    "df_comparaciones = pd.DataFrame(char_comparisons)\n",
    "display(df_comparaciones.head(20))  # Muestra las primeras 20 comparaciones\n"
   ]
  },
  {
   "cell_type": "markdown",
   "metadata": {},
   "source": [
    "## Función de pérdida y evaluación preliminar"
   ]
  },
  {
   "cell_type": "markdown",
   "metadata": {},
   "source": [
    "- Antes de entrenar el modelo, es importante entender cómo vamos a evaluar su rendimiento.\n"
   ]
  },
  {
   "cell_type": "markdown",
   "metadata": {},
   "source": [
    "\n",
    "### ¿Qué función de pérdida usamos?\n",
    "\n",
    "Usamos `SparseCategoricalCrossentropy(from_logits=True)`, una función adecuada cuando:\n",
    "\n",
    "- Tenemos múltiples clases posibles (en este caso, cada carácter es una clase).\n",
    "- Nuestras etiquetas (targets) son enteros, no vectores one-hot.\n",
    "- La salida del modelo son **logits** (valores sin aplicar `softmax`).\n",
    "\n",
    "Esta función calcula automáticamente el `softmax` y compara las distribuciones resultantes con los targets reales."
   ]
  },
  {
   "cell_type": "markdown",
   "metadata": {},
   "source": [
    "###  Evaluación en un batch de ejemplo\n",
    "\n",
    "Vamos a comprobar:\n",
    "\n",
    "1. La forma de las predicciones del modelo.\n",
    "2. El valor medio de la pérdida en un batch.\n",
    "3. Una métrica derivada llamada **perplejidad**, que nos da una idea de cuán \"incierto\" está el modelo al predecir.\n",
    "\n",
    "**Nota**: Al no estar entrenado aún, esperamos una pérdida alta y una perplejidad elevada."
   ]
  },
  {
   "cell_type": "code",
   "execution_count": 15,
   "metadata": {},
   "outputs": [
    {
     "name": "stdout",
     "output_type": "stream",
     "text": [
      "Prediction shape: (128, 250, 93)  # (batch_size, sequence_length, vocab_size)\n",
      "Mean loss:        4.5327754\n",
      "Perplejidad inicial (sin entrenar): 93.01636\n"
     ]
    }
   ],
   "source": [
    "# 1. Función de pérdida\n",
    "loss = tf.keras.losses.SparseCategoricalCrossentropy(from_logits=True)\n",
    "\n",
    "# 2. Tomamos un batch de ejemplo del dataset\n",
    "for input_example_batch, target_example_batch in dataset.take(1):\n",
    "    # Pasamos el batch por el modelo\n",
    "    example_batch_predictions = model(input_example_batch)\n",
    "\n",
    "# 3. Evaluación de la pérdida\n",
    "example_batch_mean_loss = loss(target_example_batch, example_batch_predictions)\n",
    "\n",
    "print(\"Prediction shape:\", example_batch_predictions.shape, \" # (batch_size, sequence_length, vocab_size)\")\n",
    "print(\"Mean loss:       \", example_batch_mean_loss.numpy())\n",
    "\n",
    "# 4. Perplejidad (opcional, pero informativa)\n",
    "perplexity = tf.exp(example_batch_mean_loss).numpy()\n",
    "print(\"Perplejidad inicial (sin entrenar):\", perplexity)\n"
   ]
  },
  {
   "cell_type": "markdown",
   "metadata": {},
   "source": [
    "\n",
    "#### Resultados de la evaluación preliminar\n",
    "\n",
    "- **`Prediction shape: (128, 250, 93)`**\n",
    "\n",
    "  Esto significa que:\n",
    "  \n",
    "  - Tenemos un **batch de 128 ejemplos**.\n",
    "  - Cada ejemplo es una secuencia de **250 caracteres**.\n",
    "  - Para cada paso, el modelo genera una distribución sobre **93 posibles caracteres** (tamaño del vocabulario).\n",
    "\n",
    "- **`Mean loss: 4.53`**\n",
    "\n",
    "  Es la pérdida media de predicción del modelo sobre el batch.  \n",
    "  Como aún **no ha sido entrenado**, este valor es relativamente alto.\n",
    "\n",
    "- **`Perplejidad: ~93`**\n",
    "\n",
    "  La **perplejidad** es una métrica derivada de la pérdida.  \n",
    "  Se interpreta como el número \"efectivo\" de opciones que el modelo considera posibles en cada paso.  \n",
    "  En este caso, el modelo predice de forma **casi aleatoria** entre los 93 caracteres del vocabulario.\n",
    "\n",
    "A medida que el entrenamiento avance, esperamos que la perplejidad **disminuya notablemente**, indicando que el modelo se vuelve más \"seguro\" al predecir.\n"
   ]
  },
  {
   "cell_type": "markdown",
   "metadata": {},
   "source": [
    "## Compilar el modelo\n"
   ]
  },
  {
   "cell_type": "markdown",
   "metadata": {},
   "source": [
    "Ahora que hemos probado que el modelo produce predicciones y que la función de pérdida se comporta como esperamos, es momento de compilarlo oficialmente."
   ]
  },
  {
   "cell_type": "markdown",
   "metadata": {},
   "source": [
    "- **La función de pérdida (`loss`)**: \n",
    "  - En este caso, `SparseCategoricalCrossentropy(from_logits=True)`, ya que las salidas son logits sin `softmax`.\n",
    "\n",
    "- **El optimizador (`optimizer`)**:\n",
    "  - Usamos `Adam`, que es robusto y eficaz para tareas de secuencias.\n",
    "\n",
    "- **`run_eagerly=True`**:  \n",
    "  Activamos la ejecución *eager* (paso a paso) para que el modelo se ejecute sin construir una gráfica estática.  \n",
    "  Esto es muy útil en proyectos didácticos como este porque:\n",
    "  - Facilita la depuración y el seguimiento del flujo.\n",
    "  - Permite imprimir o inspeccionar internamente valores durante el entrenamiento.\n",
    "  - Evita errores cuando se usan modelos personalizados o con `tf.function` no compilados aún.\n"
   ]
  },
  {
   "cell_type": "code",
   "execution_count": 16,
   "metadata": {},
   "outputs": [
    {
     "data": {
      "text/html": [
       "<pre style=\"white-space:pre;overflow-x:auto;line-height:normal;font-family:Menlo,'DejaVu Sans Mono',consolas,'Courier New',monospace\"><span style=\"font-weight: bold\">Model: \"my_model\"</span>\n",
       "</pre>\n"
      ],
      "text/plain": [
       "\u001b[1mModel: \"my_model\"\u001b[0m\n"
      ]
     },
     "metadata": {},
     "output_type": "display_data"
    },
    {
     "data": {
      "text/html": [
       "<pre style=\"white-space:pre;overflow-x:auto;line-height:normal;font-family:Menlo,'DejaVu Sans Mono',consolas,'Courier New',monospace\">┏━━━━━━━━━━━━━━━━━━━━━━━━━━━━━━━━━┳━━━━━━━━━━━━━━━━━━━━━━━━┳━━━━━━━━━━━━━━━┓\n",
       "┃<span style=\"font-weight: bold\"> Layer (type)                    </span>┃<span style=\"font-weight: bold\"> Output Shape           </span>┃<span style=\"font-weight: bold\">       Param # </span>┃\n",
       "┡━━━━━━━━━━━━━━━━━━━━━━━━━━━━━━━━━╇━━━━━━━━━━━━━━━━━━━━━━━━╇━━━━━━━━━━━━━━━┩\n",
       "│ embedding (<span style=\"color: #0087ff; text-decoration-color: #0087ff\">Embedding</span>)           │ (<span style=\"color: #00af00; text-decoration-color: #00af00\">128</span>, <span style=\"color: #00af00; text-decoration-color: #00af00\">250</span>, <span style=\"color: #00af00; text-decoration-color: #00af00\">128</span>)        │        <span style=\"color: #00af00; text-decoration-color: #00af00\">11,904</span> │\n",
       "├─────────────────────────────────┼────────────────────────┼───────────────┤\n",
       "│ gru (<span style=\"color: #0087ff; text-decoration-color: #0087ff\">GRU</span>)                       │ ((<span style=\"color: #00af00; text-decoration-color: #00af00\">128</span>, <span style=\"color: #00af00; text-decoration-color: #00af00\">250</span>, <span style=\"color: #00af00; text-decoration-color: #00af00\">1250</span>),     │     <span style=\"color: #00af00; text-decoration-color: #00af00\">5,175,000</span> │\n",
       "│                                 │ (<span style=\"color: #00af00; text-decoration-color: #00af00\">128</span>, <span style=\"color: #00af00; text-decoration-color: #00af00\">1250</span>))           │               │\n",
       "├─────────────────────────────────┼────────────────────────┼───────────────┤\n",
       "│ dense (<span style=\"color: #0087ff; text-decoration-color: #0087ff\">Dense</span>)                   │ (<span style=\"color: #00af00; text-decoration-color: #00af00\">128</span>, <span style=\"color: #00af00; text-decoration-color: #00af00\">250</span>, <span style=\"color: #00af00; text-decoration-color: #00af00\">93</span>)         │       <span style=\"color: #00af00; text-decoration-color: #00af00\">116,343</span> │\n",
       "└─────────────────────────────────┴────────────────────────┴───────────────┘\n",
       "</pre>\n"
      ],
      "text/plain": [
       "┏━━━━━━━━━━━━━━━━━━━━━━━━━━━━━━━━━┳━━━━━━━━━━━━━━━━━━━━━━━━┳━━━━━━━━━━━━━━━┓\n",
       "┃\u001b[1m \u001b[0m\u001b[1mLayer (type)                   \u001b[0m\u001b[1m \u001b[0m┃\u001b[1m \u001b[0m\u001b[1mOutput Shape          \u001b[0m\u001b[1m \u001b[0m┃\u001b[1m \u001b[0m\u001b[1m      Param #\u001b[0m\u001b[1m \u001b[0m┃\n",
       "┡━━━━━━━━━━━━━━━━━━━━━━━━━━━━━━━━━╇━━━━━━━━━━━━━━━━━━━━━━━━╇━━━━━━━━━━━━━━━┩\n",
       "│ embedding (\u001b[38;5;33mEmbedding\u001b[0m)           │ (\u001b[38;5;34m128\u001b[0m, \u001b[38;5;34m250\u001b[0m, \u001b[38;5;34m128\u001b[0m)        │        \u001b[38;5;34m11,904\u001b[0m │\n",
       "├─────────────────────────────────┼────────────────────────┼───────────────┤\n",
       "│ gru (\u001b[38;5;33mGRU\u001b[0m)                       │ ((\u001b[38;5;34m128\u001b[0m, \u001b[38;5;34m250\u001b[0m, \u001b[38;5;34m1250\u001b[0m),     │     \u001b[38;5;34m5,175,000\u001b[0m │\n",
       "│                                 │ (\u001b[38;5;34m128\u001b[0m, \u001b[38;5;34m1250\u001b[0m))           │               │\n",
       "├─────────────────────────────────┼────────────────────────┼───────────────┤\n",
       "│ dense (\u001b[38;5;33mDense\u001b[0m)                   │ (\u001b[38;5;34m128\u001b[0m, \u001b[38;5;34m250\u001b[0m, \u001b[38;5;34m93\u001b[0m)         │       \u001b[38;5;34m116,343\u001b[0m │\n",
       "└─────────────────────────────────┴────────────────────────┴───────────────┘\n"
      ]
     },
     "metadata": {},
     "output_type": "display_data"
    },
    {
     "data": {
      "text/html": [
       "<pre style=\"white-space:pre;overflow-x:auto;line-height:normal;font-family:Menlo,'DejaVu Sans Mono',consolas,'Courier New',monospace\"><span style=\"font-weight: bold\"> Total params: </span><span style=\"color: #00af00; text-decoration-color: #00af00\">5,303,247</span> (20.23 MB)\n",
       "</pre>\n"
      ],
      "text/plain": [
       "\u001b[1m Total params: \u001b[0m\u001b[38;5;34m5,303,247\u001b[0m (20.23 MB)\n"
      ]
     },
     "metadata": {},
     "output_type": "display_data"
    },
    {
     "data": {
      "text/html": [
       "<pre style=\"white-space:pre;overflow-x:auto;line-height:normal;font-family:Menlo,'DejaVu Sans Mono',consolas,'Courier New',monospace\"><span style=\"font-weight: bold\"> Trainable params: </span><span style=\"color: #00af00; text-decoration-color: #00af00\">5,303,247</span> (20.23 MB)\n",
       "</pre>\n"
      ],
      "text/plain": [
       "\u001b[1m Trainable params: \u001b[0m\u001b[38;5;34m5,303,247\u001b[0m (20.23 MB)\n"
      ]
     },
     "metadata": {},
     "output_type": "display_data"
    },
    {
     "data": {
      "text/html": [
       "<pre style=\"white-space:pre;overflow-x:auto;line-height:normal;font-family:Menlo,'DejaVu Sans Mono',consolas,'Courier New',monospace\"><span style=\"font-weight: bold\"> Non-trainable params: </span><span style=\"color: #00af00; text-decoration-color: #00af00\">0</span> (0.00 B)\n",
       "</pre>\n"
      ],
      "text/plain": [
       "\u001b[1m Non-trainable params: \u001b[0m\u001b[38;5;34m0\u001b[0m (0.00 B)\n"
      ]
     },
     "metadata": {},
     "output_type": "display_data"
    }
   ],
   "source": [
    "# Compilamos el modelo\n",
    "model.compile(optimizer=\"adam\", loss=loss, run_eagerly=True)\n",
    "\n",
    "# Mostramos un resumen del modelo\n",
    "model.summary()"
   ]
  },
  {
   "cell_type": "markdown",
   "metadata": {},
   "source": [
    "## Entrenamiento"
   ]
  },
  {
   "cell_type": "markdown",
   "metadata": {},
   "source": [
    "- Ya tenemos el modelo compilado. Ahora toca entrenarlo para que aprenda a generar texto \"a lo Cervantes\" a partir del corpus del *Quijote*.\n"
   ]
  },
  {
   "cell_type": "markdown",
   "metadata": {},
   "source": [
    "`¿Cómo se entrena este tipo de modelo?`\n",
    "\n",
    "- El modelo recibe una secuencia de entrada (por ejemplo, 250 caracteres).\n",
    "- Intenta predecir el **carácter siguiente** en cada paso de la secuencia.\n",
    "- Se ajustan los pesos del modelo para minimizar la diferencia entre lo predicho y la secuencia real (objetivo).\n",
    "\n"
   ]
  },
  {
   "cell_type": "markdown",
   "metadata": {},
   "source": [
    "Para no perder los avances del modelo, usaremos un **callback** que guarda checkpoints:\n",
    "\n",
    "- **Checkpoint Callback:**  \n",
    "  Guarda el modelo tras cada epoch. Esto nos permite retomar el entrenamiento o generar texto más adelante utilizando un modelo ya entrenado.\n",
    "\n",
    "Adicionalmente, se han incorporado dos callbacks para mejorar el proceso de entrenamiento:\n",
    "\n",
    "- **ReduceLROnPlateau:**  \n",
    "  - Monitorea la pérdida de validación (`val_loss`).  \n",
    "  - Si no hay mejora en 3 epochs consecutivos, reduce la tasa de aprendizaje a la mitad (factor: 0.5).\n",
    "\n",
    "- **EarlyStopping:**  \n",
    "  - También se basa en `val_loss`.  \n",
    "  - Detiene el entrenamiento si no hay mejora durante 5 epochs consecutivos, restaurando los mejores pesos obtenidos.\n",
    "\n",
    "El entrenamiento se ha configurado para un máximo de 200 epochs, aunque la combinación de estos callbacks puede finalizarlo antes si se alcanza la convergencia.\n",
    "\n"
   ]
  },
  {
   "cell_type": "code",
   "execution_count": 17,
   "metadata": {},
   "outputs": [],
   "source": [
    "# Ruta base donde guardaremos los checkpoints del modelo\n",
    "checkpoint_dir = \"./checkpoints\"\n",
    "checkpoint_prefix = f\"{checkpoint_dir}/ckpt_{{epoch}}.weights.h5\"\n",
    "\n",
    "# Definimos el callback para guardar checkpoints\n",
    "checkpoint_callback = tf.keras.callbacks.ModelCheckpoint(\n",
    "    filepath=checkpoint_prefix,\n",
    "    save_weights_only=True\n",
    ")"
   ]
  },
  {
   "cell_type": "code",
   "execution_count": 18,
   "metadata": {},
   "outputs": [],
   "source": [
    "# Callback para reducir la tasa de aprendizaje si la pérdida no mejora\n",
    "lr_reducer = tf.keras.callbacks.ReduceLROnPlateau(\n",
    "    monitor='val_loss',      # Se monitoriza la métrica de pérdida\n",
    "    factor=0.5,          # Se reduce la tasa de aprendizaje a la mitad\n",
    "    patience=3,          # Se espera 5 epochs sin mejora antes de reducir\n",
    "    verbose=1\n",
    ")\n",
    "\n",
    "# Callback para detener el entrenamiento temprano si la pérdida se estanca\n",
    "early_stopping = tf.keras.callbacks.EarlyStopping(\n",
    "    monitor='val_loss',      # Se monitoriza la pérdida\n",
    "    patience=5,          # Se esperan 10 epochs sin mejora para detener el entrenamiento\n",
    "    verbose=1,\n",
    "    restore_best_weights=True  # Se restauran los mejores pesos al final\n",
    ")"
   ]
  },
  {
   "cell_type": "code",
   "execution_count": 19,
   "metadata": {},
   "outputs": [
    {
     "name": "stdout",
     "output_type": "stream",
     "text": [
      "Epoch 1/200\n",
      "\u001b[1m59/59\u001b[0m \u001b[32m━━━━━━━━━━━━━━━━━━━━\u001b[0m\u001b[37m\u001b[0m \u001b[1m11s\u001b[0m 159ms/step - loss: 3.3825 - val_loss: 2.1969 - learning_rate: 0.0010\n",
      "Epoch 2/200\n",
      "\u001b[1m59/59\u001b[0m \u001b[32m━━━━━━━━━━━━━━━━━━━━\u001b[0m\u001b[37m\u001b[0m \u001b[1m10s\u001b[0m 157ms/step - loss: 2.1337 - val_loss: 1.9512 - learning_rate: 0.0010\n",
      "Epoch 3/200\n",
      "\u001b[1m59/59\u001b[0m \u001b[32m━━━━━━━━━━━━━━━━━━━━\u001b[0m\u001b[37m\u001b[0m \u001b[1m10s\u001b[0m 157ms/step - loss: 1.9023 - val_loss: 1.7642 - learning_rate: 0.0010\n",
      "Epoch 4/200\n",
      "\u001b[1m59/59\u001b[0m \u001b[32m━━━━━━━━━━━━━━━━━━━━\u001b[0m\u001b[37m\u001b[0m \u001b[1m10s\u001b[0m 156ms/step - loss: 1.7138 - val_loss: 1.5949 - learning_rate: 0.0010\n",
      "Epoch 5/200\n",
      "\u001b[1m59/59\u001b[0m \u001b[32m━━━━━━━━━━━━━━━━━━━━\u001b[0m\u001b[37m\u001b[0m \u001b[1m10s\u001b[0m 157ms/step - loss: 1.5671 - val_loss: 1.4757 - learning_rate: 0.0010\n",
      "Epoch 6/200\n",
      "\u001b[1m59/59\u001b[0m \u001b[32m━━━━━━━━━━━━━━━━━━━━\u001b[0m\u001b[37m\u001b[0m \u001b[1m10s\u001b[0m 158ms/step - loss: 1.4555 - val_loss: 1.3950 - learning_rate: 0.0010\n",
      "Epoch 7/200\n",
      "\u001b[1m59/59\u001b[0m \u001b[32m━━━━━━━━━━━━━━━━━━━━\u001b[0m\u001b[37m\u001b[0m \u001b[1m10s\u001b[0m 156ms/step - loss: 1.3777 - val_loss: 1.3225 - learning_rate: 0.0010\n",
      "Epoch 8/200\n",
      "\u001b[1m59/59\u001b[0m \u001b[32m━━━━━━━━━━━━━━━━━━━━\u001b[0m\u001b[37m\u001b[0m \u001b[1m10s\u001b[0m 156ms/step - loss: 1.3146 - val_loss: 1.2711 - learning_rate: 0.0010\n",
      "Epoch 9/200\n",
      "\u001b[1m59/59\u001b[0m \u001b[32m━━━━━━━━━━━━━━━━━━━━\u001b[0m\u001b[37m\u001b[0m \u001b[1m10s\u001b[0m 157ms/step - loss: 1.2707 - val_loss: 1.2352 - learning_rate: 0.0010\n",
      "Epoch 10/200\n",
      "\u001b[1m59/59\u001b[0m \u001b[32m━━━━━━━━━━━━━━━━━━━━\u001b[0m\u001b[37m\u001b[0m \u001b[1m10s\u001b[0m 156ms/step - loss: 1.2324 - val_loss: 1.2057 - learning_rate: 0.0010\n",
      "Epoch 11/200\n",
      "\u001b[1m59/59\u001b[0m \u001b[32m━━━━━━━━━━━━━━━━━━━━\u001b[0m\u001b[37m\u001b[0m \u001b[1m10s\u001b[0m 157ms/step - loss: 1.1974 - val_loss: 1.1693 - learning_rate: 0.0010\n",
      "Epoch 12/200\n",
      "\u001b[1m59/59\u001b[0m \u001b[32m━━━━━━━━━━━━━━━━━━━━\u001b[0m\u001b[37m\u001b[0m \u001b[1m10s\u001b[0m 155ms/step - loss: 1.1698 - val_loss: 1.1447 - learning_rate: 0.0010\n",
      "Epoch 13/200\n",
      "\u001b[1m59/59\u001b[0m \u001b[32m━━━━━━━━━━━━━━━━━━━━\u001b[0m\u001b[37m\u001b[0m \u001b[1m10s\u001b[0m 158ms/step - loss: 1.1436 - val_loss: 1.1102 - learning_rate: 0.0010\n",
      "Epoch 14/200\n",
      "\u001b[1m59/59\u001b[0m \u001b[32m━━━━━━━━━━━━━━━━━━━━\u001b[0m\u001b[37m\u001b[0m \u001b[1m10s\u001b[0m 157ms/step - loss: 1.1182 - val_loss: 1.0933 - learning_rate: 0.0010\n",
      "Epoch 15/200\n",
      "\u001b[1m59/59\u001b[0m \u001b[32m━━━━━━━━━━━━━━━━━━━━\u001b[0m\u001b[37m\u001b[0m \u001b[1m10s\u001b[0m 157ms/step - loss: 1.1002 - val_loss: 1.0712 - learning_rate: 0.0010\n",
      "Epoch 16/200\n",
      "\u001b[1m59/59\u001b[0m \u001b[32m━━━━━━━━━━━━━━━━━━━━\u001b[0m\u001b[37m\u001b[0m \u001b[1m10s\u001b[0m 157ms/step - loss: 1.0751 - val_loss: 1.0556 - learning_rate: 0.0010\n",
      "Epoch 17/200\n",
      "\u001b[1m59/59\u001b[0m \u001b[32m━━━━━━━━━━━━━━━━━━━━\u001b[0m\u001b[37m\u001b[0m \u001b[1m10s\u001b[0m 156ms/step - loss: 1.0526 - val_loss: 1.0342 - learning_rate: 0.0010\n",
      "Epoch 18/200\n",
      "\u001b[1m59/59\u001b[0m \u001b[32m━━━━━━━━━━━━━━━━━━━━\u001b[0m\u001b[37m\u001b[0m \u001b[1m10s\u001b[0m 157ms/step - loss: 1.0322 - val_loss: 1.0006 - learning_rate: 0.0010\n",
      "Epoch 19/200\n",
      "\u001b[1m59/59\u001b[0m \u001b[32m━━━━━━━━━━━━━━━━━━━━\u001b[0m\u001b[37m\u001b[0m \u001b[1m10s\u001b[0m 155ms/step - loss: 1.0116 - val_loss: 0.9828 - learning_rate: 0.0010\n",
      "Epoch 20/200\n",
      "\u001b[1m59/59\u001b[0m \u001b[32m━━━━━━━━━━━━━━━━━━━━\u001b[0m\u001b[37m\u001b[0m \u001b[1m10s\u001b[0m 156ms/step - loss: 0.9876 - val_loss: 0.9554 - learning_rate: 0.0010\n",
      "Epoch 21/200\n",
      "\u001b[1m59/59\u001b[0m \u001b[32m━━━━━━━━━━━━━━━━━━━━\u001b[0m\u001b[37m\u001b[0m \u001b[1m10s\u001b[0m 156ms/step - loss: 0.9677 - val_loss: 0.9478 - learning_rate: 0.0010\n",
      "Epoch 22/200\n",
      "\u001b[1m59/59\u001b[0m \u001b[32m━━━━━━━━━━━━━━━━━━━━\u001b[0m\u001b[37m\u001b[0m \u001b[1m10s\u001b[0m 156ms/step - loss: 0.9504 - val_loss: 0.9187 - learning_rate: 0.0010\n",
      "Epoch 23/200\n",
      "\u001b[1m59/59\u001b[0m \u001b[32m━━━━━━━━━━━━━━━━━━━━\u001b[0m\u001b[37m\u001b[0m \u001b[1m10s\u001b[0m 158ms/step - loss: 0.9252 - val_loss: 0.9003 - learning_rate: 0.0010\n",
      "Epoch 24/200\n",
      "\u001b[1m59/59\u001b[0m \u001b[32m━━━━━━━━━━━━━━━━━━━━\u001b[0m\u001b[37m\u001b[0m \u001b[1m10s\u001b[0m 156ms/step - loss: 0.8981 - val_loss: 0.8699 - learning_rate: 0.0010\n",
      "Epoch 25/200\n",
      "\u001b[1m59/59\u001b[0m \u001b[32m━━━━━━━━━━━━━━━━━━━━\u001b[0m\u001b[37m\u001b[0m \u001b[1m10s\u001b[0m 156ms/step - loss: 0.8801 - val_loss: 0.8492 - learning_rate: 0.0010\n",
      "Epoch 26/200\n",
      "\u001b[1m59/59\u001b[0m \u001b[32m━━━━━━━━━━━━━━━━━━━━\u001b[0m\u001b[37m\u001b[0m \u001b[1m10s\u001b[0m 157ms/step - loss: 0.8528 - val_loss: 0.8200 - learning_rate: 0.0010\n",
      "Epoch 27/200\n",
      "\u001b[1m59/59\u001b[0m \u001b[32m━━━━━━━━━━━━━━━━━━━━\u001b[0m\u001b[37m\u001b[0m \u001b[1m10s\u001b[0m 157ms/step - loss: 0.8276 - val_loss: 0.8000 - learning_rate: 0.0010\n",
      "Epoch 28/200\n",
      "\u001b[1m59/59\u001b[0m \u001b[32m━━━━━━━━━━━━━━━━━━━━\u001b[0m\u001b[37m\u001b[0m \u001b[1m10s\u001b[0m 157ms/step - loss: 0.8030 - val_loss: 0.7694 - learning_rate: 0.0010\n",
      "Epoch 29/200\n",
      "\u001b[1m59/59\u001b[0m \u001b[32m━━━━━━━━━━━━━━━━━━━━\u001b[0m\u001b[37m\u001b[0m \u001b[1m10s\u001b[0m 157ms/step - loss: 0.7829 - val_loss: 0.7438 - learning_rate: 0.0010\n",
      "Epoch 30/200\n",
      "\u001b[1m59/59\u001b[0m \u001b[32m━━━━━━━━━━━━━━━━━━━━\u001b[0m\u001b[37m\u001b[0m \u001b[1m10s\u001b[0m 156ms/step - loss: 0.7525 - val_loss: 0.7155 - learning_rate: 0.0010\n",
      "Epoch 31/200\n",
      "\u001b[1m59/59\u001b[0m \u001b[32m━━━━━━━━━━━━━━━━━━━━\u001b[0m\u001b[37m\u001b[0m \u001b[1m10s\u001b[0m 158ms/step - loss: 0.7270 - val_loss: 0.6963 - learning_rate: 0.0010\n",
      "Epoch 32/200\n",
      "\u001b[1m59/59\u001b[0m \u001b[32m━━━━━━━━━━━━━━━━━━━━\u001b[0m\u001b[37m\u001b[0m \u001b[1m10s\u001b[0m 158ms/step - loss: 0.7022 - val_loss: 0.6673 - learning_rate: 0.0010\n",
      "Epoch 33/200\n",
      "\u001b[1m59/59\u001b[0m \u001b[32m━━━━━━━━━━━━━━━━━━━━\u001b[0m\u001b[37m\u001b[0m \u001b[1m10s\u001b[0m 158ms/step - loss: 0.6758 - val_loss: 0.6396 - learning_rate: 0.0010\n",
      "Epoch 34/200\n",
      "\u001b[1m59/59\u001b[0m \u001b[32m━━━━━━━━━━━━━━━━━━━━\u001b[0m\u001b[37m\u001b[0m \u001b[1m10s\u001b[0m 157ms/step - loss: 0.6452 - val_loss: 0.6120 - learning_rate: 0.0010\n",
      "Epoch 35/200\n",
      "\u001b[1m59/59\u001b[0m \u001b[32m━━━━━━━━━━━━━━━━━━━━\u001b[0m\u001b[37m\u001b[0m \u001b[1m10s\u001b[0m 159ms/step - loss: 0.6207 - val_loss: 0.5897 - learning_rate: 0.0010\n",
      "Epoch 36/200\n",
      "\u001b[1m59/59\u001b[0m \u001b[32m━━━━━━━━━━━━━━━━━━━━\u001b[0m\u001b[37m\u001b[0m \u001b[1m10s\u001b[0m 157ms/step - loss: 0.5980 - val_loss: 0.5635 - learning_rate: 0.0010\n",
      "Epoch 37/200\n",
      "\u001b[1m59/59\u001b[0m \u001b[32m━━━━━━━━━━━━━━━━━━━━\u001b[0m\u001b[37m\u001b[0m \u001b[1m10s\u001b[0m 157ms/step - loss: 0.5746 - val_loss: 0.5410 - learning_rate: 0.0010\n",
      "Epoch 38/200\n",
      "\u001b[1m59/59\u001b[0m \u001b[32m━━━━━━━━━━━━━━━━━━━━\u001b[0m\u001b[37m\u001b[0m \u001b[1m10s\u001b[0m 157ms/step - loss: 0.5520 - val_loss: 0.5242 - learning_rate: 0.0010\n",
      "Epoch 39/200\n",
      "\u001b[1m59/59\u001b[0m \u001b[32m━━━━━━━━━━━━━━━━━━━━\u001b[0m\u001b[37m\u001b[0m \u001b[1m10s\u001b[0m 158ms/step - loss: 0.5302 - val_loss: 0.5003 - learning_rate: 0.0010\n",
      "Epoch 40/200\n",
      "\u001b[1m59/59\u001b[0m \u001b[32m━━━━━━━━━━━━━━━━━━━━\u001b[0m\u001b[37m\u001b[0m \u001b[1m10s\u001b[0m 159ms/step - loss: 0.5119 - val_loss: 0.4800 - learning_rate: 0.0010\n",
      "Epoch 41/200\n",
      "\u001b[1m59/59\u001b[0m \u001b[32m━━━━━━━━━━━━━━━━━━━━\u001b[0m\u001b[37m\u001b[0m \u001b[1m10s\u001b[0m 158ms/step - loss: 0.4884 - val_loss: 0.4622 - learning_rate: 0.0010\n",
      "Epoch 42/200\n",
      "\u001b[1m59/59\u001b[0m \u001b[32m━━━━━━━━━━━━━━━━━━━━\u001b[0m\u001b[37m\u001b[0m \u001b[1m10s\u001b[0m 158ms/step - loss: 0.4721 - val_loss: 0.4494 - learning_rate: 0.0010\n",
      "Epoch 43/200\n",
      "\u001b[1m59/59\u001b[0m \u001b[32m━━━━━━━━━━━━━━━━━━━━\u001b[0m\u001b[37m\u001b[0m \u001b[1m10s\u001b[0m 157ms/step - loss: 0.4558 - val_loss: 0.4281 - learning_rate: 0.0010\n",
      "Epoch 44/200\n",
      "\u001b[1m59/59\u001b[0m \u001b[32m━━━━━━━━━━━━━━━━━━━━\u001b[0m\u001b[37m\u001b[0m \u001b[1m11s\u001b[0m 164ms/step - loss: 0.4398 - val_loss: 0.4128 - learning_rate: 0.0010\n",
      "Epoch 45/200\n",
      "\u001b[1m59/59\u001b[0m \u001b[32m━━━━━━━━━━━━━━━━━━━━\u001b[0m\u001b[37m\u001b[0m \u001b[1m11s\u001b[0m 162ms/step - loss: 0.4260 - val_loss: 0.4047 - learning_rate: 0.0010\n",
      "Epoch 46/200\n",
      "\u001b[1m59/59\u001b[0m \u001b[32m━━━━━━━━━━━━━━━━━━━━\u001b[0m\u001b[37m\u001b[0m \u001b[1m10s\u001b[0m 159ms/step - loss: 0.4124 - val_loss: 0.3869 - learning_rate: 0.0010\n",
      "Epoch 47/200\n",
      "\u001b[1m59/59\u001b[0m \u001b[32m━━━━━━━━━━━━━━━━━━━━\u001b[0m\u001b[37m\u001b[0m \u001b[1m11s\u001b[0m 171ms/step - loss: 0.3983 - val_loss: 0.3789 - learning_rate: 0.0010\n",
      "Epoch 48/200\n",
      "\u001b[1m59/59\u001b[0m \u001b[32m━━━━━━━━━━━━━━━━━━━━\u001b[0m\u001b[37m\u001b[0m \u001b[1m10s\u001b[0m 159ms/step - loss: 0.3923 - val_loss: 0.3663 - learning_rate: 0.0010\n",
      "Epoch 49/200\n",
      "\u001b[1m59/59\u001b[0m \u001b[32m━━━━━━━━━━━━━━━━━━━━\u001b[0m\u001b[37m\u001b[0m \u001b[1m10s\u001b[0m 158ms/step - loss: 0.3800 - val_loss: 0.3610 - learning_rate: 0.0010\n",
      "Epoch 50/200\n",
      "\u001b[1m59/59\u001b[0m \u001b[32m━━━━━━━━━━━━━━━━━━━━\u001b[0m\u001b[37m\u001b[0m \u001b[1m10s\u001b[0m 160ms/step - loss: 0.3692 - val_loss: 0.3482 - learning_rate: 0.0010\n",
      "Epoch 51/200\n",
      "\u001b[1m59/59\u001b[0m \u001b[32m━━━━━━━━━━━━━━━━━━━━\u001b[0m\u001b[37m\u001b[0m \u001b[1m11s\u001b[0m 162ms/step - loss: 0.3582 - val_loss: 0.3445 - learning_rate: 0.0010\n",
      "Epoch 52/200\n",
      "\u001b[1m59/59\u001b[0m \u001b[32m━━━━━━━━━━━━━━━━━━━━\u001b[0m\u001b[37m\u001b[0m \u001b[1m10s\u001b[0m 160ms/step - loss: 0.3528 - val_loss: 0.3345 - learning_rate: 0.0010\n",
      "Epoch 53/200\n",
      "\u001b[1m59/59\u001b[0m \u001b[32m━━━━━━━━━━━━━━━━━━━━\u001b[0m\u001b[37m\u001b[0m \u001b[1m10s\u001b[0m 159ms/step - loss: 0.3440 - val_loss: 0.3246 - learning_rate: 0.0010\n",
      "Epoch 54/200\n",
      "\u001b[1m59/59\u001b[0m \u001b[32m━━━━━━━━━━━━━━━━━━━━\u001b[0m\u001b[37m\u001b[0m \u001b[1m11s\u001b[0m 165ms/step - loss: 0.3355 - val_loss: 0.3201 - learning_rate: 0.0010\n",
      "Epoch 55/200\n",
      "\u001b[1m59/59\u001b[0m \u001b[32m━━━━━━━━━━━━━━━━━━━━\u001b[0m\u001b[37m\u001b[0m \u001b[1m11s\u001b[0m 167ms/step - loss: 0.3323 - val_loss: 0.3163 - learning_rate: 0.0010\n",
      "Epoch 56/200\n",
      "\u001b[1m59/59\u001b[0m \u001b[32m━━━━━━━━━━━━━━━━━━━━\u001b[0m\u001b[37m\u001b[0m \u001b[1m10s\u001b[0m 161ms/step - loss: 0.3254 - val_loss: 0.3090 - learning_rate: 0.0010\n",
      "Epoch 57/200\n",
      "\u001b[1m59/59\u001b[0m \u001b[32m━━━━━━━━━━━━━━━━━━━━\u001b[0m\u001b[37m\u001b[0m \u001b[1m11s\u001b[0m 165ms/step - loss: 0.3177 - val_loss: 0.3029 - learning_rate: 0.0010\n",
      "Epoch 58/200\n",
      "\u001b[1m59/59\u001b[0m \u001b[32m━━━━━━━━━━━━━━━━━━━━\u001b[0m\u001b[37m\u001b[0m \u001b[1m10s\u001b[0m 158ms/step - loss: 0.3147 - val_loss: 0.2961 - learning_rate: 0.0010\n",
      "Epoch 59/200\n",
      "\u001b[1m59/59\u001b[0m \u001b[32m━━━━━━━━━━━━━━━━━━━━\u001b[0m\u001b[37m\u001b[0m \u001b[1m11s\u001b[0m 166ms/step - loss: 0.3072 - val_loss: 0.2950 - learning_rate: 0.0010\n",
      "Epoch 60/200\n",
      "\u001b[1m59/59\u001b[0m \u001b[32m━━━━━━━━━━━━━━━━━━━━\u001b[0m\u001b[37m\u001b[0m \u001b[1m10s\u001b[0m 160ms/step - loss: 0.3014 - val_loss: 0.2856 - learning_rate: 0.0010\n",
      "Epoch 61/200\n",
      "\u001b[1m59/59\u001b[0m \u001b[32m━━━━━━━━━━━━━━━━━━━━\u001b[0m\u001b[37m\u001b[0m \u001b[1m10s\u001b[0m 161ms/step - loss: 0.2938 - val_loss: 0.2770 - learning_rate: 0.0010\n",
      "Epoch 62/200\n",
      "\u001b[1m59/59\u001b[0m \u001b[32m━━━━━━━━━━━━━━━━━━━━\u001b[0m\u001b[37m\u001b[0m \u001b[1m11s\u001b[0m 161ms/step - loss: 0.2866 - val_loss: 0.2729 - learning_rate: 0.0010\n",
      "Epoch 63/200\n",
      "\u001b[1m59/59\u001b[0m \u001b[32m━━━━━━━━━━━━━━━━━━━━\u001b[0m\u001b[37m\u001b[0m \u001b[1m10s\u001b[0m 157ms/step - loss: 0.2835 - val_loss: 0.2705 - learning_rate: 0.0010\n",
      "Epoch 64/200\n",
      "\u001b[1m59/59\u001b[0m \u001b[32m━━━━━━━━━━━━━━━━━━━━\u001b[0m\u001b[37m\u001b[0m \u001b[1m10s\u001b[0m 154ms/step - loss: 0.2838 - val_loss: 0.2706 - learning_rate: 0.0010\n",
      "Epoch 65/200\n",
      "\u001b[1m59/59\u001b[0m \u001b[32m━━━━━━━━━━━━━━━━━━━━\u001b[0m\u001b[37m\u001b[0m \u001b[1m10s\u001b[0m 155ms/step - loss: 0.2804 - val_loss: 0.2644 - learning_rate: 0.0010\n",
      "Epoch 66/200\n",
      "\u001b[1m59/59\u001b[0m \u001b[32m━━━━━━━━━━━━━━━━━━━━\u001b[0m\u001b[37m\u001b[0m \u001b[1m10s\u001b[0m 156ms/step - loss: 0.2775 - val_loss: 0.2617 - learning_rate: 0.0010\n",
      "Epoch 67/200\n",
      "\u001b[1m59/59\u001b[0m \u001b[32m━━━━━━━━━━━━━━━━━━━━\u001b[0m\u001b[37m\u001b[0m \u001b[1m10s\u001b[0m 154ms/step - loss: 0.2730 - val_loss: 0.2656 - learning_rate: 0.0010\n",
      "Epoch 68/200\n",
      "\u001b[1m59/59\u001b[0m \u001b[32m━━━━━━━━━━━━━━━━━━━━\u001b[0m\u001b[37m\u001b[0m \u001b[1m10s\u001b[0m 155ms/step - loss: 0.2727 - val_loss: 0.2602 - learning_rate: 0.0010\n",
      "Epoch 69/200\n",
      "\u001b[1m59/59\u001b[0m \u001b[32m━━━━━━━━━━━━━━━━━━━━\u001b[0m\u001b[37m\u001b[0m \u001b[1m10s\u001b[0m 156ms/step - loss: 0.2694 - val_loss: 0.2560 - learning_rate: 0.0010\n",
      "Epoch 70/200\n",
      "\u001b[1m59/59\u001b[0m \u001b[32m━━━━━━━━━━━━━━━━━━━━\u001b[0m\u001b[37m\u001b[0m \u001b[1m10s\u001b[0m 154ms/step - loss: 0.2645 - val_loss: 0.2457 - learning_rate: 0.0010\n",
      "Epoch 71/200\n",
      "\u001b[1m59/59\u001b[0m \u001b[32m━━━━━━━━━━━━━━━━━━━━\u001b[0m\u001b[37m\u001b[0m \u001b[1m10s\u001b[0m 154ms/step - loss: 0.2587 - val_loss: 0.2479 - learning_rate: 0.0010\n",
      "Epoch 72/200\n",
      "\u001b[1m59/59\u001b[0m \u001b[32m━━━━━━━━━━━━━━━━━━━━\u001b[0m\u001b[37m\u001b[0m \u001b[1m10s\u001b[0m 155ms/step - loss: 0.2568 - val_loss: 0.2406 - learning_rate: 0.0010\n",
      "Epoch 73/200\n",
      "\u001b[1m59/59\u001b[0m \u001b[32m━━━━━━━━━━━━━━━━━━━━\u001b[0m\u001b[37m\u001b[0m \u001b[1m10s\u001b[0m 157ms/step - loss: 0.2499 - val_loss: 0.2391 - learning_rate: 0.0010\n",
      "Epoch 74/200\n",
      "\u001b[1m59/59\u001b[0m \u001b[32m━━━━━━━━━━━━━━━━━━━━\u001b[0m\u001b[37m\u001b[0m \u001b[1m10s\u001b[0m 156ms/step - loss: 0.2492 - val_loss: 0.2389 - learning_rate: 0.0010\n",
      "Epoch 75/200\n",
      "\u001b[1m59/59\u001b[0m \u001b[32m━━━━━━━━━━━━━━━━━━━━\u001b[0m\u001b[37m\u001b[0m \u001b[1m10s\u001b[0m 158ms/step - loss: 0.2484 - val_loss: 0.2379 - learning_rate: 0.0010\n",
      "Epoch 76/200\n",
      "\u001b[1m59/59\u001b[0m \u001b[32m━━━━━━━━━━━━━━━━━━━━\u001b[0m\u001b[37m\u001b[0m \u001b[1m10s\u001b[0m 156ms/step - loss: 0.2479 - val_loss: 0.2370 - learning_rate: 0.0010\n",
      "Epoch 77/200\n",
      "\u001b[1m59/59\u001b[0m \u001b[32m━━━━━━━━━━━━━━━━━━━━\u001b[0m\u001b[37m\u001b[0m \u001b[1m10s\u001b[0m 156ms/step - loss: 0.2435 - val_loss: 0.2380 - learning_rate: 0.0010\n",
      "Epoch 78/200\n",
      "\u001b[1m59/59\u001b[0m \u001b[32m━━━━━━━━━━━━━━━━━━━━\u001b[0m\u001b[37m\u001b[0m \u001b[1m10s\u001b[0m 156ms/step - loss: 0.2446 - val_loss: 0.2316 - learning_rate: 0.0010\n",
      "Epoch 79/200\n",
      "\u001b[1m59/59\u001b[0m \u001b[32m━━━━━━━━━━━━━━━━━━━━\u001b[0m\u001b[37m\u001b[0m \u001b[1m11s\u001b[0m 169ms/step - loss: 0.2432 - val_loss: 0.2313 - learning_rate: 0.0010\n",
      "Epoch 80/200\n",
      "\u001b[1m59/59\u001b[0m \u001b[32m━━━━━━━━━━━━━━━━━━━━\u001b[0m\u001b[37m\u001b[0m \u001b[1m11s\u001b[0m 169ms/step - loss: 0.2413 - val_loss: 0.2324 - learning_rate: 0.0010\n",
      "Epoch 81/200\n",
      "\u001b[1m59/59\u001b[0m \u001b[32m━━━━━━━━━━━━━━━━━━━━\u001b[0m\u001b[37m\u001b[0m \u001b[1m11s\u001b[0m 170ms/step - loss: 0.2361 - val_loss: 0.2182 - learning_rate: 0.0010\n",
      "Epoch 82/200\n",
      "\u001b[1m59/59\u001b[0m \u001b[32m━━━━━━━━━━━━━━━━━━━━\u001b[0m\u001b[37m\u001b[0m \u001b[1m11s\u001b[0m 169ms/step - loss: 0.2295 - val_loss: 0.2145 - learning_rate: 0.0010\n",
      "Epoch 83/200\n",
      "\u001b[1m59/59\u001b[0m \u001b[32m━━━━━━━━━━━━━━━━━━━━\u001b[0m\u001b[37m\u001b[0m \u001b[1m11s\u001b[0m 173ms/step - loss: 0.2258 - val_loss: 0.2188 - learning_rate: 0.0010\n",
      "Epoch 84/200\n",
      "\u001b[1m59/59\u001b[0m \u001b[32m━━━━━━━━━━━━━━━━━━━━\u001b[0m\u001b[37m\u001b[0m \u001b[1m11s\u001b[0m 169ms/step - loss: 0.2281 - val_loss: 0.2187 - learning_rate: 0.0010\n",
      "Epoch 85/200\n",
      "\u001b[1m59/59\u001b[0m \u001b[32m━━━━━━━━━━━━━━━━━━━━\u001b[0m\u001b[37m\u001b[0m \u001b[1m11s\u001b[0m 170ms/step - loss: 0.2260 - val_loss: 0.2136 - learning_rate: 0.0010\n",
      "Epoch 86/200\n",
      "\u001b[1m59/59\u001b[0m \u001b[32m━━━━━━━━━━━━━━━━━━━━\u001b[0m\u001b[37m\u001b[0m \u001b[1m11s\u001b[0m 168ms/step - loss: 0.2286 - val_loss: 0.2161 - learning_rate: 0.0010\n",
      "Epoch 87/200\n",
      "\u001b[1m59/59\u001b[0m \u001b[32m━━━━━━━━━━━━━━━━━━━━\u001b[0m\u001b[37m\u001b[0m \u001b[1m11s\u001b[0m 170ms/step - loss: 0.2278 - val_loss: 0.2137 - learning_rate: 0.0010\n",
      "Epoch 88/200\n",
      "\u001b[1m59/59\u001b[0m \u001b[32m━━━━━━━━━━━━━━━━━━━━\u001b[0m\u001b[37m\u001b[0m \u001b[1m0s\u001b[0m 143ms/step - loss: 0.2255\n",
      "Epoch 88: ReduceLROnPlateau reducing learning rate to 0.0005000000237487257.\n",
      "\u001b[1m59/59\u001b[0m \u001b[32m━━━━━━━━━━━━━━━━━━━━\u001b[0m\u001b[37m\u001b[0m \u001b[1m11s\u001b[0m 169ms/step - loss: 0.2257 - val_loss: 0.2158 - learning_rate: 0.0010\n",
      "Epoch 89/200\n",
      "\u001b[1m59/59\u001b[0m \u001b[32m━━━━━━━━━━━━━━━━━━━━\u001b[0m\u001b[37m\u001b[0m \u001b[1m11s\u001b[0m 168ms/step - loss: 0.1777 - val_loss: 0.1079 - learning_rate: 5.0000e-04\n",
      "Epoch 90/200\n",
      "\u001b[1m59/59\u001b[0m \u001b[32m━━━━━━━━━━━━━━━━━━━━\u001b[0m\u001b[37m\u001b[0m \u001b[1m11s\u001b[0m 168ms/step - loss: 0.1057 - val_loss: 0.0837 - learning_rate: 5.0000e-04\n",
      "Epoch 91/200\n",
      "\u001b[1m59/59\u001b[0m \u001b[32m━━━━━━━━━━━━━━━━━━━━\u001b[0m\u001b[37m\u001b[0m \u001b[1m11s\u001b[0m 164ms/step - loss: 0.0821 - val_loss: 0.0698 - learning_rate: 5.0000e-04\n",
      "Epoch 92/200\n",
      "\u001b[1m59/59\u001b[0m \u001b[32m━━━━━━━━━━━━━━━━━━━━\u001b[0m\u001b[37m\u001b[0m \u001b[1m11s\u001b[0m 166ms/step - loss: 0.0706 - val_loss: 0.0627 - learning_rate: 5.0000e-04\n",
      "Epoch 93/200\n",
      "\u001b[1m59/59\u001b[0m \u001b[32m━━━━━━━━━━━━━━━━━━━━\u001b[0m\u001b[37m\u001b[0m \u001b[1m11s\u001b[0m 166ms/step - loss: 0.0630 - val_loss: 0.0574 - learning_rate: 5.0000e-04\n",
      "Epoch 94/200\n",
      "\u001b[1m59/59\u001b[0m \u001b[32m━━━━━━━━━━━━━━━━━━━━\u001b[0m\u001b[37m\u001b[0m \u001b[1m11s\u001b[0m 167ms/step - loss: 0.0581 - val_loss: 0.0543 - learning_rate: 5.0000e-04\n",
      "Epoch 95/200\n",
      "\u001b[1m59/59\u001b[0m \u001b[32m━━━━━━━━━━━━━━━━━━━━\u001b[0m\u001b[37m\u001b[0m \u001b[1m11s\u001b[0m 165ms/step - loss: 0.0549 - val_loss: 0.0516 - learning_rate: 5.0000e-04\n",
      "Epoch 96/200\n",
      "\u001b[1m59/59\u001b[0m \u001b[32m━━━━━━━━━━━━━━━━━━━━\u001b[0m\u001b[37m\u001b[0m \u001b[1m11s\u001b[0m 166ms/step - loss: 0.0524 - val_loss: 0.0495 - learning_rate: 5.0000e-04\n",
      "Epoch 97/200\n",
      "\u001b[1m59/59\u001b[0m \u001b[32m━━━━━━━━━━━━━━━━━━━━\u001b[0m\u001b[37m\u001b[0m \u001b[1m11s\u001b[0m 166ms/step - loss: 0.0506 - val_loss: 0.0483 - learning_rate: 5.0000e-04\n",
      "Epoch 98/200\n",
      "\u001b[1m59/59\u001b[0m \u001b[32m━━━━━━━━━━━━━━━━━━━━\u001b[0m\u001b[37m\u001b[0m \u001b[1m11s\u001b[0m 165ms/step - loss: 0.0486 - val_loss: 0.0466 - learning_rate: 5.0000e-04\n",
      "Epoch 99/200\n",
      "\u001b[1m59/59\u001b[0m \u001b[32m━━━━━━━━━━━━━━━━━━━━\u001b[0m\u001b[37m\u001b[0m \u001b[1m11s\u001b[0m 167ms/step - loss: 0.0474 - val_loss: 0.0454 - learning_rate: 5.0000e-04\n",
      "Epoch 100/200\n",
      "\u001b[1m59/59\u001b[0m \u001b[32m━━━━━━━━━━━━━━━━━━━━\u001b[0m\u001b[37m\u001b[0m \u001b[1m11s\u001b[0m 166ms/step - loss: 0.0460 - val_loss: 0.0447 - learning_rate: 5.0000e-04\n",
      "Epoch 101/200\n",
      "\u001b[1m59/59\u001b[0m \u001b[32m━━━━━━━━━━━━━━━━━━━━\u001b[0m\u001b[37m\u001b[0m \u001b[1m11s\u001b[0m 165ms/step - loss: 0.0452 - val_loss: 0.0435 - learning_rate: 5.0000e-04\n",
      "Epoch 102/200\n",
      "\u001b[1m59/59\u001b[0m \u001b[32m━━━━━━━━━━━━━━━━━━━━\u001b[0m\u001b[37m\u001b[0m \u001b[1m11s\u001b[0m 165ms/step - loss: 0.0443 - val_loss: 0.0425 - learning_rate: 5.0000e-04\n",
      "Epoch 103/200\n",
      "\u001b[1m59/59\u001b[0m \u001b[32m━━━━━━━━━━━━━━━━━━━━\u001b[0m\u001b[37m\u001b[0m \u001b[1m11s\u001b[0m 166ms/step - loss: 0.0435 - val_loss: 0.0418 - learning_rate: 5.0000e-04\n",
      "Epoch 104/200\n",
      "\u001b[1m59/59\u001b[0m \u001b[32m━━━━━━━━━━━━━━━━━━━━\u001b[0m\u001b[37m\u001b[0m \u001b[1m11s\u001b[0m 165ms/step - loss: 0.0429 - val_loss: 0.0414 - learning_rate: 5.0000e-04\n",
      "Epoch 105/200\n",
      "\u001b[1m59/59\u001b[0m \u001b[32m━━━━━━━━━━━━━━━━━━━━\u001b[0m\u001b[37m\u001b[0m \u001b[1m11s\u001b[0m 166ms/step - loss: 0.0420 - val_loss: 0.0409 - learning_rate: 5.0000e-04\n",
      "Epoch 106/200\n",
      "\u001b[1m59/59\u001b[0m \u001b[32m━━━━━━━━━━━━━━━━━━━━\u001b[0m\u001b[37m\u001b[0m \u001b[1m11s\u001b[0m 165ms/step - loss: 0.0417 - val_loss: 0.0400 - learning_rate: 5.0000e-04\n",
      "Epoch 107/200\n",
      "\u001b[1m59/59\u001b[0m \u001b[32m━━━━━━━━━━━━━━━━━━━━\u001b[0m\u001b[37m\u001b[0m \u001b[1m11s\u001b[0m 165ms/step - loss: 0.0411 - val_loss: 0.0396 - learning_rate: 5.0000e-04\n",
      "Epoch 108/200\n",
      "\u001b[1m59/59\u001b[0m \u001b[32m━━━━━━━━━━━━━━━━━━━━\u001b[0m\u001b[37m\u001b[0m \u001b[1m11s\u001b[0m 166ms/step - loss: 0.0407 - val_loss: 0.0393 - learning_rate: 5.0000e-04\n",
      "Epoch 109/200\n",
      "\u001b[1m59/59\u001b[0m \u001b[32m━━━━━━━━━━━━━━━━━━━━\u001b[0m\u001b[37m\u001b[0m \u001b[1m11s\u001b[0m 168ms/step - loss: 0.0403 - val_loss: 0.0384 - learning_rate: 5.0000e-04\n",
      "Epoch 110/200\n",
      "\u001b[1m59/59\u001b[0m \u001b[32m━━━━━━━━━━━━━━━━━━━━\u001b[0m\u001b[37m\u001b[0m \u001b[1m11s\u001b[0m 166ms/step - loss: 0.0400 - val_loss: 0.0386 - learning_rate: 5.0000e-04\n",
      "Epoch 111/200\n",
      "\u001b[1m59/59\u001b[0m \u001b[32m━━━━━━━━━━━━━━━━━━━━\u001b[0m\u001b[37m\u001b[0m \u001b[1m11s\u001b[0m 164ms/step - loss: 0.0399 - val_loss: 0.0387 - learning_rate: 5.0000e-04\n",
      "Epoch 112/200\n",
      "\u001b[1m59/59\u001b[0m \u001b[32m━━━━━━━━━━━━━━━━━━━━\u001b[0m\u001b[37m\u001b[0m \u001b[1m11s\u001b[0m 164ms/step - loss: 0.0396 - val_loss: 0.0378 - learning_rate: 5.0000e-04\n",
      "Epoch 113/200\n",
      "\u001b[1m59/59\u001b[0m \u001b[32m━━━━━━━━━━━━━━━━━━━━\u001b[0m\u001b[37m\u001b[0m \u001b[1m11s\u001b[0m 167ms/step - loss: 0.0395 - val_loss: 0.0391 - learning_rate: 5.0000e-04\n",
      "Epoch 114/200\n",
      "\u001b[1m59/59\u001b[0m \u001b[32m━━━━━━━━━━━━━━━━━━━━\u001b[0m\u001b[37m\u001b[0m \u001b[1m11s\u001b[0m 170ms/step - loss: 0.0394 - val_loss: 0.0384 - learning_rate: 5.0000e-04\n",
      "Epoch 115/200\n",
      "\u001b[1m59/59\u001b[0m \u001b[32m━━━━━━━━━━━━━━━━━━━━\u001b[0m\u001b[37m\u001b[0m \u001b[1m0s\u001b[0m 139ms/step - loss: 0.0400\n",
      "Epoch 115: ReduceLROnPlateau reducing learning rate to 0.0002500000118743628.\n",
      "\u001b[1m59/59\u001b[0m \u001b[32m━━━━━━━━━━━━━━━━━━━━\u001b[0m\u001b[37m\u001b[0m \u001b[1m11s\u001b[0m 165ms/step - loss: 0.0400 - val_loss: 0.0387 - learning_rate: 5.0000e-04\n",
      "Epoch 116/200\n",
      "\u001b[1m59/59\u001b[0m \u001b[32m━━━━━━━━━━━━━━━━━━━━\u001b[0m\u001b[37m\u001b[0m \u001b[1m11s\u001b[0m 165ms/step - loss: 0.0381 - val_loss: 0.0355 - learning_rate: 2.5000e-04\n",
      "Epoch 117/200\n",
      "\u001b[1m59/59\u001b[0m \u001b[32m━━━━━━━━━━━━━━━━━━━━\u001b[0m\u001b[37m\u001b[0m \u001b[1m11s\u001b[0m 165ms/step - loss: 0.0357 - val_loss: 0.0344 - learning_rate: 2.5000e-04\n",
      "Epoch 118/200\n",
      "\u001b[1m59/59\u001b[0m \u001b[32m━━━━━━━━━━━━━━━━━━━━\u001b[0m\u001b[37m\u001b[0m \u001b[1m11s\u001b[0m 164ms/step - loss: 0.0348 - val_loss: 0.0341 - learning_rate: 2.5000e-04\n",
      "Epoch 119/200\n",
      "\u001b[1m59/59\u001b[0m \u001b[32m━━━━━━━━━━━━━━━━━━━━\u001b[0m\u001b[37m\u001b[0m \u001b[1m11s\u001b[0m 165ms/step - loss: 0.0347 - val_loss: 0.0340 - learning_rate: 2.5000e-04\n",
      "Epoch 120/200\n",
      "\u001b[1m59/59\u001b[0m \u001b[32m━━━━━━━━━━━━━━━━━━━━\u001b[0m\u001b[37m\u001b[0m \u001b[1m11s\u001b[0m 165ms/step - loss: 0.0342 - val_loss: 0.0334 - learning_rate: 2.5000e-04\n",
      "Epoch 121/200\n",
      "\u001b[1m59/59\u001b[0m \u001b[32m━━━━━━━━━━━━━━━━━━━━\u001b[0m\u001b[37m\u001b[0m \u001b[1m11s\u001b[0m 169ms/step - loss: 0.0341 - val_loss: 0.0335 - learning_rate: 2.5000e-04\n",
      "Epoch 122/200\n",
      "\u001b[1m59/59\u001b[0m \u001b[32m━━━━━━━━━━━━━━━━━━━━\u001b[0m\u001b[37m\u001b[0m \u001b[1m11s\u001b[0m 169ms/step - loss: 0.0341 - val_loss: 0.0326 - learning_rate: 2.5000e-04\n",
      "Epoch 123/200\n",
      "\u001b[1m59/59\u001b[0m \u001b[32m━━━━━━━━━━━━━━━━━━━━\u001b[0m\u001b[37m\u001b[0m \u001b[1m11s\u001b[0m 168ms/step - loss: 0.0337 - val_loss: 0.0331 - learning_rate: 2.5000e-04\n",
      "Epoch 124/200\n",
      "\u001b[1m59/59\u001b[0m \u001b[32m━━━━━━━━━━━━━━━━━━━━\u001b[0m\u001b[37m\u001b[0m \u001b[1m11s\u001b[0m 168ms/step - loss: 0.0336 - val_loss: 0.0329 - learning_rate: 2.5000e-04\n",
      "Epoch 125/200\n",
      "\u001b[1m59/59\u001b[0m \u001b[32m━━━━━━━━━━━━━━━━━━━━\u001b[0m\u001b[37m\u001b[0m \u001b[1m0s\u001b[0m 139ms/step - loss: 0.0335\n",
      "Epoch 125: ReduceLROnPlateau reducing learning rate to 0.0001250000059371814.\n",
      "\u001b[1m59/59\u001b[0m \u001b[32m━━━━━━━━━━━━━━━━━━━━\u001b[0m\u001b[37m\u001b[0m \u001b[1m11s\u001b[0m 165ms/step - loss: 0.0335 - val_loss: 0.0327 - learning_rate: 2.5000e-04\n",
      "Epoch 126/200\n",
      "\u001b[1m59/59\u001b[0m \u001b[32m━━━━━━━━━━━━━━━━━━━━\u001b[0m\u001b[37m\u001b[0m \u001b[1m11s\u001b[0m 172ms/step - loss: 0.0329 - val_loss: 0.0318 - learning_rate: 1.2500e-04\n",
      "Epoch 127/200\n",
      "\u001b[1m59/59\u001b[0m \u001b[32m━━━━━━━━━━━━━━━━━━━━\u001b[0m\u001b[37m\u001b[0m \u001b[1m11s\u001b[0m 173ms/step - loss: 0.0322 - val_loss: 0.0321 - learning_rate: 1.2500e-04\n",
      "Epoch 128/200\n",
      "\u001b[1m59/59\u001b[0m \u001b[32m━━━━━━━━━━━━━━━━━━━━\u001b[0m\u001b[37m\u001b[0m \u001b[1m12s\u001b[0m 179ms/step - loss: 0.0323 - val_loss: 0.0319 - learning_rate: 1.2500e-04\n",
      "Epoch 129/200\n",
      "\u001b[1m59/59\u001b[0m \u001b[32m━━━━━━━━━━━━━━━━━━━━\u001b[0m\u001b[37m\u001b[0m \u001b[1m0s\u001b[0m 144ms/step - loss: 0.0323\n",
      "Epoch 129: ReduceLROnPlateau reducing learning rate to 6.25000029685907e-05.\n",
      "\u001b[1m59/59\u001b[0m \u001b[32m━━━━━━━━━━━━━━━━━━━━\u001b[0m\u001b[37m\u001b[0m \u001b[1m11s\u001b[0m 170ms/step - loss: 0.0323 - val_loss: 0.0317 - learning_rate: 1.2500e-04\n",
      "Epoch 130/200\n",
      "\u001b[1m59/59\u001b[0m \u001b[32m━━━━━━━━━━━━━━━━━━━━\u001b[0m\u001b[37m\u001b[0m \u001b[1m11s\u001b[0m 167ms/step - loss: 0.0319 - val_loss: 0.0319 - learning_rate: 6.2500e-05\n",
      "Epoch 131/200\n",
      "\u001b[1m59/59\u001b[0m \u001b[32m━━━━━━━━━━━━━━━━━━━━\u001b[0m\u001b[37m\u001b[0m \u001b[1m11s\u001b[0m 166ms/step - loss: 0.0316 - val_loss: 0.0311 - learning_rate: 6.2500e-05\n",
      "Epoch 132/200\n",
      "\u001b[1m59/59\u001b[0m \u001b[32m━━━━━━━━━━━━━━━━━━━━\u001b[0m\u001b[37m\u001b[0m \u001b[1m11s\u001b[0m 172ms/step - loss: 0.0316 - val_loss: 0.0312 - learning_rate: 6.2500e-05\n",
      "Epoch 133/200\n",
      "\u001b[1m59/59\u001b[0m \u001b[32m━━━━━━━━━━━━━━━━━━━━\u001b[0m\u001b[37m\u001b[0m \u001b[1m12s\u001b[0m 188ms/step - loss: 0.0314 - val_loss: 0.0313 - learning_rate: 6.2500e-05\n",
      "Epoch 134/200\n",
      "\u001b[1m59/59\u001b[0m \u001b[32m━━━━━━━━━━━━━━━━━━━━\u001b[0m\u001b[37m\u001b[0m \u001b[1m0s\u001b[0m 140ms/step - loss: 0.0315\n",
      "Epoch 134: ReduceLROnPlateau reducing learning rate to 3.125000148429535e-05.\n",
      "\u001b[1m59/59\u001b[0m \u001b[32m━━━━━━━━━━━━━━━━━━━━\u001b[0m\u001b[37m\u001b[0m \u001b[1m11s\u001b[0m 166ms/step - loss: 0.0315 - val_loss: 0.0313 - learning_rate: 6.2500e-05\n",
      "Epoch 135/200\n",
      "\u001b[1m59/59\u001b[0m \u001b[32m━━━━━━━━━━━━━━━━━━━━\u001b[0m\u001b[37m\u001b[0m \u001b[1m11s\u001b[0m 168ms/step - loss: 0.0313 - val_loss: 0.0311 - learning_rate: 3.1250e-05\n",
      "Epoch 136/200\n",
      "\u001b[1m59/59\u001b[0m \u001b[32m━━━━━━━━━━━━━━━━━━━━\u001b[0m\u001b[37m\u001b[0m \u001b[1m11s\u001b[0m 170ms/step - loss: 0.0313 - val_loss: 0.0310 - learning_rate: 3.1250e-05\n",
      "Epoch 137/200\n",
      "\u001b[1m59/59\u001b[0m \u001b[32m━━━━━━━━━━━━━━━━━━━━\u001b[0m\u001b[37m\u001b[0m \u001b[1m11s\u001b[0m 165ms/step - loss: 0.0312 - val_loss: 0.0309 - learning_rate: 3.1250e-05\n",
      "Epoch 138/200\n",
      "\u001b[1m59/59\u001b[0m \u001b[32m━━━━━━━━━━━━━━━━━━━━\u001b[0m\u001b[37m\u001b[0m \u001b[1m11s\u001b[0m 166ms/step - loss: 0.0311 - val_loss: 0.0311 - learning_rate: 3.1250e-05\n",
      "Epoch 139/200\n",
      "\u001b[1m59/59\u001b[0m \u001b[32m━━━━━━━━━━━━━━━━━━━━\u001b[0m\u001b[37m\u001b[0m \u001b[1m11s\u001b[0m 165ms/step - loss: 0.0312 - val_loss: 0.0308 - learning_rate: 3.1250e-05\n",
      "Epoch 140/200\n",
      "\u001b[1m59/59\u001b[0m \u001b[32m━━━━━━━━━━━━━━━━━━━━\u001b[0m\u001b[37m\u001b[0m \u001b[1m11s\u001b[0m 167ms/step - loss: 0.0310 - val_loss: 0.0307 - learning_rate: 3.1250e-05\n",
      "Epoch 141/200\n",
      "\u001b[1m59/59\u001b[0m \u001b[32m━━━━━━━━━━━━━━━━━━━━\u001b[0m\u001b[37m\u001b[0m \u001b[1m11s\u001b[0m 165ms/step - loss: 0.0311 - val_loss: 0.0310 - learning_rate: 3.1250e-05\n",
      "Epoch 142/200\n",
      "\u001b[1m59/59\u001b[0m \u001b[32m━━━━━━━━━━━━━━━━━━━━\u001b[0m\u001b[37m\u001b[0m \u001b[1m0s\u001b[0m 145ms/step - loss: 0.0311\n",
      "Epoch 142: ReduceLROnPlateau reducing learning rate to 1.5625000742147677e-05.\n",
      "\u001b[1m59/59\u001b[0m \u001b[32m━━━━━━━━━━━━━━━━━━━━\u001b[0m\u001b[37m\u001b[0m \u001b[1m11s\u001b[0m 171ms/step - loss: 0.0311 - val_loss: 0.0310 - learning_rate: 3.1250e-05\n",
      "Epoch 143/200\n",
      "\u001b[1m59/59\u001b[0m \u001b[32m━━━━━━━━━━━━━━━━━━━━\u001b[0m\u001b[37m\u001b[0m \u001b[1m11s\u001b[0m 166ms/step - loss: 0.0310 - val_loss: 0.0310 - learning_rate: 1.5625e-05\n",
      "Epoch 144/200\n",
      "\u001b[1m59/59\u001b[0m \u001b[32m━━━━━━━━━━━━━━━━━━━━\u001b[0m\u001b[37m\u001b[0m \u001b[1m11s\u001b[0m 167ms/step - loss: 0.0310 - val_loss: 0.0307 - learning_rate: 1.5625e-05\n",
      "Epoch 145/200\n",
      "\u001b[1m59/59\u001b[0m \u001b[32m━━━━━━━━━━━━━━━━━━━━\u001b[0m\u001b[37m\u001b[0m \u001b[1m0s\u001b[0m 142ms/step - loss: 0.0309\n",
      "Epoch 145: ReduceLROnPlateau reducing learning rate to 7.812500371073838e-06.\n",
      "\u001b[1m59/59\u001b[0m \u001b[32m━━━━━━━━━━━━━━━━━━━━\u001b[0m\u001b[37m\u001b[0m \u001b[1m11s\u001b[0m 168ms/step - loss: 0.0309 - val_loss: 0.0308 - learning_rate: 1.5625e-05\n",
      "Epoch 145: early stopping\n",
      "Restoring model weights from the end of the best epoch: 140.\n"
     ]
    }
   ],
   "source": [
    "# Número de epochs a entrenar (puedes ajustar)\n",
    "EPOCHS = 200  # Número de epochs a entrenar\n",
    "\n",
    "history = model.fit(\n",
    "    train_dataset,\n",
    "    epochs=EPOCHS,\n",
    "    validation_data=val_dataset,\n",
    "    callbacks=[checkpoint_callback, lr_reducer, early_stopping]\n",
    ")\n"
   ]
  },
  {
   "cell_type": "markdown",
   "metadata": {},
   "source": [
    "### Evolución del entrenamiento"
   ]
  },
  {
   "cell_type": "markdown",
   "metadata": {},
   "source": [
    "Durante el entrenamiento, esperamos observar lo siguiente:\n",
    "\n",
    "- **Disminución de la Pérdida (Loss):**  \n",
    "  La curva de la pérdida debería bajar progresivamente, lo que indica que el modelo está aprendiendo a minimizar el error en sus predicciones.\n",
    "\n",
    "- **Reducción de la Perplejidad:**  \n",
    "  La perplejidad es el exponencial de la pérdida y también debería disminuir. Una perplejidad menor significa que el modelo es más confiado en sus predicciones.\n",
    "\n",
    "- **Señales de Estancamiento o Sobreentrenamiento:**  \n",
    "  - Si la pérdida se estabiliza o aumenta, especialmente en el conjunto de validación, podría ser necesario ajustar hiperparámetros, añadir regularización (como Dropout o L2) o incorporar más datos.\n",
    "  - Una divergencia significativa entre la pérdida de entrenamiento y la de validación es un indicador de overfitting.\n"
   ]
  },
  {
   "cell_type": "code",
   "execution_count": 20,
   "metadata": {},
   "outputs": [
    {
     "data": {
      "image/png": "[encoded data removed]",
      "text/plain": [
       "<Figure size 1000x500 with 1 Axes>"
      ]
     },
     "metadata": {},
     "output_type": "display_data"
    },
    {
     "name": "stdout",
     "output_type": "stream",
     "text": [
      "· Pérdida final de entrenamiento:     0.0310\n",
      "· Perplejidad final de entrenamiento: 1.03\n",
      "· Pérdida final de validación:     0.0308\n",
      "· Perplejidad final de validación: 1.03\n"
     ]
    }
   ],
   "source": [
    "# Extraemos las métricas del historial de entrenamiento\n",
    "loss_values = history.history[\"loss\"]\n",
    "val_loss_values = history.history[\"val_loss\"]\n",
    "\n",
    "# Calculamos la perplejidad tanto para entrenamiento como para validación\n",
    "perplexity_values = [np.exp(l) for l in loss_values]\n",
    "val_perplexity_values = [np.exp(l) for l in val_loss_values]\n",
    "\n",
    "epochs = range(1, len(loss_values) + 1)\n",
    "\n",
    "# Graficamos las métricas de pérdida y perplejidad para entrenamiento y validación\n",
    "plt.figure(figsize=(10, 5))\n",
    "plt.plot(epochs, loss_values, label=\"Train Loss\")\n",
    "plt.plot(epochs, val_loss_values, label=\"Validation Loss\")\n",
    "plt.plot(epochs, perplexity_values, label=\"Train Perplexity\")\n",
    "plt.plot(epochs, val_perplexity_values, label=\"Validation Perplexity\")\n",
    "plt.xlabel(\"Epoch\")\n",
    "plt.ylabel(\"Valor\")\n",
    "plt.title(\"📉 Evolución de la pérdida y perplejidad\")\n",
    "plt.legend()\n",
    "plt.grid(True)\n",
    "plt.show()\n",
    "\n",
    "# Mostramos los valores finales de ambas métricas\n",
    "print(f\"· Pérdida final de entrenamiento:     {loss_values[-1]:.4f}\")\n",
    "print(f\"· Perplejidad final de entrenamiento: {perplexity_values[-1]:.2f}\")\n",
    "print(f\"· Pérdida final de validación:     {val_loss_values[-1]:.4f}\")\n",
    "print(f\"· Perplejidad final de validación: {val_perplexity_values[-1]:.2f}\")\n"
   ]
  },
  {
   "cell_type": "markdown",
   "metadata": {},
   "source": [
    "## Generación de texto"
   ]
  },
  {
   "cell_type": "markdown",
   "metadata": {},
   "source": [
    "### Definición de la clase OneStep"
   ]
  },
  {
   "cell_type": "markdown",
   "metadata": {},
   "source": [
    "\n",
    "Esta clase encapsula el proceso de generación secuencial de texto, permitiendo generar texto de manera iterativa, carácter a carácter, a partir de un prompt inicial.\n",
    "\n",
    "Funcionalidad que incorpora:\n",
    "- Tokenización del input (ids_from_chars)\n",
    "\n",
    "- Generación de logits con el modelo\n",
    "\n",
    "- Aplicación de temperatura\n",
    "\n",
    "- Muestreo con tf.random.categorical\n",
    "\n",
    "- Máscara para evitar tokens [UNK]\n",
    "\n",
    "- Decodificación del output (chars_from_ids)"
   ]
  },
  {
   "cell_type": "code",
   "execution_count": 21,
   "metadata": {},
   "outputs": [],
   "source": [
    "class OneStep(tf.keras.Model):\n",
    "    def __init__(self, model, chars_from_ids, ids_from_chars, temperature=1.0):\n",
    "        super().__init__()\n",
    "        self.temperature = temperature\n",
    "        self.model = model\n",
    "        self.chars_from_ids = chars_from_ids\n",
    "        self.ids_from_chars = ids_from_chars\n",
    "\n",
    "        # Evitamos generar el token [UNK]\n",
    "        skip_ids = self.ids_from_chars([\"[UNK]\"])[:, None]\n",
    "        sparse_mask = tf.SparseTensor(\n",
    "            indices=skip_ids,\n",
    "            values=[-float(\"inf\")] * len(skip_ids),\n",
    "            dense_shape=[len(ids_from_chars.get_vocabulary())]\n",
    "        )\n",
    "        self.prediction_mask = tf.sparse.to_dense(sparse_mask)\n",
    "\n",
    "    def generate_one_step(self, inputs, states=None):\n",
    "        # Convertimos caracteres en IDs\n",
    "        input_chars = tf.strings.unicode_split(inputs, \"UTF-8\")\n",
    "        input_ids = self.ids_from_chars(input_chars).to_tensor()\n",
    "\n",
    "        batch_size = tf.shape(input_ids)[0]\n",
    "\n",
    "        # Ajuste de estado\n",
    "        if states is not None:\n",
    "            # Extraemos si es una tupla de un único tensor\n",
    "            if isinstance(states, (tuple, list)) and len(states) == 1:\n",
    "                states = states[0]\n",
    "            # Expandimos si está colapsado\n",
    "            if tf.rank(states) == 1:\n",
    "                states = tf.expand_dims(states, 0)\n",
    "            # Ajustamos al batch size actual\n",
    "            if tf.shape(states)[0] != batch_size:\n",
    "                states = tf.tile(states, [batch_size, 1])\n",
    "\n",
    "        # Llamada al modelo\n",
    "        if states is None:\n",
    "            predicted_logits, new_states = self.model(\n",
    "                input_ids, return_state=True, training=False\n",
    "            )\n",
    "        else:\n",
    "            predicted_logits, new_states = self.model(\n",
    "                input_ids, states=(states,), return_state=True, training=False\n",
    "            )\n",
    "\n",
    "        if isinstance(new_states, (tuple, list)) and len(new_states) == 1:\n",
    "            new_states = new_states[0]\n",
    "\n",
    "        # 🔥 Último paso de la secuencia\n",
    "        predicted_logits = predicted_logits[:, -1, :]\n",
    "        predicted_logits = predicted_logits / self.temperature\n",
    "        predicted_logits += self.prediction_mask\n",
    "\n",
    "        # Muestreo\n",
    "        predicted_ids = tf.random.categorical(predicted_logits, num_samples=1)\n",
    "        predicted_ids = tf.squeeze(predicted_ids, axis=-1)\n",
    "\n",
    "        # Convertir IDs a texto\n",
    "        predicted_chars = self.chars_from_ids(predicted_ids)\n",
    "\n",
    "        return predicted_chars, new_states\n"
   ]
  },
  {
   "cell_type": "markdown",
   "metadata": {},
   "source": [
    "¿Qué hace cada parte clave?\n",
    "\n",
    "- `temperature`: controla la **aleatoriedad** de la generación (valores bajos = más predecible, valores altos = más creativo).\n",
    "- `prediction_mask`: evita generar el token `[UNK]`, lo que mejora la calidad.\n",
    "- `generate_one_step`: produce **un carácter a la vez**, útil para construir texto en un bucle.\n",
    "\n"
   ]
  },
  {
   "cell_type": "markdown",
   "metadata": {},
   "source": [
    "### **Generación de texto al estilo Cervantes**\n",
    "\n",
    "Aquí tienes un ejemplo listo para usar. Puedes ajustar el **prompt inicial**, la **temperatura** (creatividad) y la **longitud** del texto generado.\n",
    "\n",
    "\n",
    "#### Sugerencias de parámetros\n",
    "\n",
    "| Temperatura | Resultado esperado                 |\n",
    "|-------------|-------------------------------------|\n",
    "| `0.5`       | Texto más **estructurado** y seguro |\n",
    "| `0.8`       | Equilibrio entre coherencia y creatividad |\n",
    "| `1.0+`      | Resultados **más locos o poéticos** |"
   ]
  },
  {
   "cell_type": "code",
   "execution_count": 22,
   "metadata": {},
   "outputs": [
    {
     "name": "stdout",
     "output_type": "stream",
     "text": [
      "Texto generado:\n",
      "\n",
      "En un lugar de la Mancha; la cual, con el\n",
      "aposento y acomodado, captó con Anselmo, y todas partes a tus ojos\n",
      "astanden se irme otra vez, y de nuevo se acabó la vida. Digo\n",
      "que había acabado de hacerle aquella vitura con mucha propriedad y entendimiento\n",
      "para todas las compasidas; y, como no fueron advertidos de las dos que\n",
      "habían meses, que era un muchacho que las damas en aquella pintada y listimada\n",
      "alguna, adonde se invidió don Quijote a la historia de don Quijote de la\n",
      "Mancha, de mis dichos y dos gansamezos, y verás como se los hicieron esta carta\n",
      "de sus padres, volvió a hacer menos cuanto le dijese qué modo de parte de\n",
      "Dulcinea. De su escudero se puso del atrevido y hermosura, y luego dio en\n",
      "su aposento de la caña, por lo cual don Quijote primero le escucharó si camina\n",
      "muy aprobada entera, sin perjuicio, sacan sus libros y verdaderas. Hay\n",
      "aquella montaña es que estaban empresa los dos malandrines historiadores cuanto\n",
      "ensancha, no se entró por la puerta a pie por el suelo una principal aquella\n",
      "encantada, con \n"
     ]
    }
   ],
   "source": [
    "# Creamos una instancia del generador\n",
    "one_step_model = OneStep(\n",
    "    model,\n",
    "    chars_from_ids=chars_from_ids,\n",
    "    ids_from_chars=ids_from_chars,\n",
    "    temperature=0.8\n",
    ")\n",
    "\n",
    "# Prompt inicial\n",
    "start_prompt = \"En un lugar de la Mancha\"\n",
    "states = None\n",
    "next_char = tf.constant([start_prompt])\n",
    "result = [next_char]\n",
    "\n",
    "# Generamos texto carácter a carácter\n",
    "for _ in range(1000):\n",
    "    next_char, states = one_step_model.generate_one_step(next_char, states=states)\n",
    "    result.append(next_char)\n",
    "\n",
    "# Resultado final\n",
    "generated_text = tf.strings.join(result).numpy()[0].decode(\"utf-8\")\n",
    "print(\"Texto generado:\\n\")\n",
    "print(generated_text)\n"
   ]
  },
  {
   "cell_type": "markdown",
   "metadata": {},
   "source": [
    "###  Análisis de texto generado\n",
    "\n",
    "- **Estilo sintáctico y léxico** muy cervantino:  \n",
    "  Uso de frases extensas, formas como *\"viniese\"*, *\"merced\"*, *\"hubiesen\"*, etc.\n",
    "\n",
    "- **Estructura dialogada**:  \n",
    "  El modelo incluso introduce *guiones* y *diálogos*, algo que suele aprender por patrón visual.\n",
    "\n",
    "- **Cohesión narrativa básica**:  \n",
    "  Aunque hay partes incoherentes, el tono general y la atmósfera son consistentes con el **Don Quijote original**.\n",
    "\n",
    "Esto confirma que:\n",
    "\n",
    "- El modelo ha **aprendido patrones secuenciales** y estilo.\n",
    "- La RNN (GRU) y el vocabulario funcionan correctamente.\n",
    "- Podemos mejorar aún más aumentando *epochs*, ajustando *temperature*, o explorando *beam search*.\n"
   ]
  },
  {
   "cell_type": "markdown",
   "metadata": {},
   "source": [
    "#### Generacion de texto con temperature=0.5"
   ]
  },
  {
   "cell_type": "code",
   "execution_count": 23,
   "metadata": {},
   "outputs": [
    {
     "name": "stdout",
     "output_type": "stream",
     "text": [
      "Texto generado:\n",
      "\n",
      "En un lugar de la Mancha, y de la\n",
      "misma manera que el cuerdo en la frente llevo.\n",
      "\n",
      "— ¿Y no sé nada —respondió Sancho—; sólo estaba diciendo entre dos\n",
      "mil suertes y levantados en alguna parte y en consigo con los escados\n",
      "algunos de la ventana, y aun se lo ponde campensamientos. Y así, le dijo:\n",
      "\n",
      "— Paréceme, señor caballero andante, que vuestra merced ha profesado una de\n",
      "las más estrechas profesiones que hay en la tierra, y tengo para mí que aun\n",
      "la de los frailes cartujos no es tan estrecha.\n",
      "\n",
      "— Tan estrecha bien podía —dijo Sancho—, que me trae asimismo de abrirlar y\n",
      "defender toda la informada del mundo, que pueda jurar como aquélla; que\n",
      "los de la noche me han sacado de aquí se sustentar; y desta manera hará lo menos, yo pensar\n",
      "que es verdad que todo lo que dices es tan valiente y tan desagradecida.\n",
      "Finalmente, ha de ser atadas las promesas de los frailes cargan con quien\n",
      "alcanzares; porque suelen los encantos de la vida, si se entreta, sino que\n",
      "te digo que me den la venganza que los se abrió habo.\n",
      "\n",
      "Callaba Sanch\n"
     ]
    }
   ],
   "source": [
    "# Creamos una instancia del generador\n",
    "one_step_model = OneStep(\n",
    "    model,\n",
    "    chars_from_ids=chars_from_ids,\n",
    "    ids_from_chars=ids_from_chars,\n",
    "    temperature=0.5\n",
    ")\n",
    "\n",
    "# Prompt inicial\n",
    "start_prompt = \"En un lugar de la Mancha\"\n",
    "states = None\n",
    "next_char = tf.constant([start_prompt])\n",
    "result = [next_char]\n",
    "\n",
    "# Generamos texto carácter a carácter\n",
    "for _ in range(1000):\n",
    "    next_char, states = one_step_model.generate_one_step(next_char, states=states)\n",
    "    result.append(next_char)\n",
    "\n",
    "# Resultado final\n",
    "generated_text = tf.strings.join(result).numpy()[0].decode(\"utf-8\")\n",
    "print(\"Texto generado:\\n\")\n",
    "print(generated_text)"
   ]
  },
  {
   "cell_type": "code",
   "execution_count": 27,
   "metadata": {},
   "outputs": [
    {
     "name": "stdout",
     "output_type": "stream",
     "text": [
      "Texto generado:\n",
      "\n",
      "En un lugar de la Mancha es mi\n",
      "maleta, harto contra villanos callanos; uno del soldado, asió de venta\n",
      "trinco, la rienda. ToméO, el principao de Tote de ser abajo, ya. Yo le levantó muy comenzó a\n",
      "Garcilas, La Resonumar en lugar, cuando el hombre hizo sed mentecato; y\n",
      "Dásgase cuando se le cayeron en una buena pieza; y, tuyo; sepa que no\n",
      "andebo de dolor se le arrancaba el alma.\n",
      "Hizcaído, pues, entre aquella tierra y juitamente, luego había\n",
      "salido cancionoslas, al cual decían: no consentiro qué nadiemo, diego entre el\n",
      "mesmo Grisólo con el Papa, se le quita y le enmiesen los galeotes; menoscaba rico;\n",
      "pero vi y tan saré al cautivo, que era la que profesabo. en las\n",
      "manos y pie de escuderos y socapada el aspetur de Quicen. Venga España, y\n",
      "Amadís de Maute, ni nosotras fingidas tantos y colas. No le diera aseg,\n",
      "al pie de la lengua n diste, y más cruces escuderos de locura que la Golsema,\n",
      "que traer en la cabeza en el mundo con esta exculpa: que esto imagino\n",
      "y su dolor de los amorosos pensamientos, ejos señores que el du\n"
     ]
    }
   ],
   "source": [
    "# Creamos una instancia del generador\n",
    "one_step_model = OneStep(\n",
    "    model,\n",
    "    chars_from_ids=chars_from_ids,\n",
    "    ids_from_chars=ids_from_chars,\n",
    "    temperature=2.0\n",
    ")\n",
    "\n",
    "# Prompt inicial\n",
    "start_prompt = \"En un lugar de la Mancha\"\n",
    "states = None\n",
    "next_char = tf.constant([start_prompt])\n",
    "result = [next_char]\n",
    "\n",
    "# Generamos texto carácter a carácter\n",
    "for _ in range(1000):\n",
    "    next_char, states = one_step_model.generate_one_step(next_char, states=states)\n",
    "    result.append(next_char)\n",
    "\n",
    "# Resultado final\n",
    "generated_text = tf.strings.join(result).numpy()[0].decode(\"utf-8\")\n",
    "print(\"Texto generado:\\n\")\n",
    "print(generated_text)"
   ]
  },
  {
   "cell_type": "markdown",
   "metadata": {},
   "source": [
    "---"
   ]
  },
  {
   "cell_type": "markdown",
   "metadata": {},
   "source": [
    "## Generación de texto con `Beam Search`"
   ]
  },
  {
   "cell_type": "markdown",
   "metadata": {},
   "source": [
    "Hasta ahora, generábamos texto carácter a carácter usando muestreo aleatorio con tf.random.categorical. Este enfoque introduce creatividad, pero también puede generar incoherencias o secuencias menos estructuradas.\n",
    "\n",
    "En esta sección, implementamos un enfoque más estructurado y determinista:\n",
    "\n",
    "- Beam Search, una técnica que explora múltiples caminos posibles en paralelo para encontrar secuencias más coherentes."
   ]
  },
  {
   "cell_type": "markdown",
   "metadata": {},
   "source": [
    "#### ¿Qué es Beam Search?"
   ]
  },
  {
   "cell_type": "markdown",
   "metadata": {},
   "source": [
    "\n",
    "Beam Search es una técnica heurística que mantiene vivas las k mejores secuencias en cada paso, en lugar de solo una.\n",
    "\n",
    "- Inicio: se parte de un prompt inicial (start_prompt) y un estado nulo.\n",
    "\n",
    "- Iteración:\n",
    "\n",
    "    - Se generan predicciones para cada secuencia viva en el beam.\n",
    "\n",
    "    - Se seleccionan las k combinaciones más prometedoras de secuencia + siguiente carácter.\n",
    "\n",
    "    - Se calcula la probabilidad acumulada de cada camino.\n",
    "\n",
    "- Finalización:\n",
    "\n",
    "    - Tras num_steps, se devuelve la secuencia con mayor probabilidad acumulada."
   ]
  },
  {
   "cell_type": "markdown",
   "metadata": {},
   "source": [
    "#### Parámetros clave de la función\n"
   ]
  },
  {
   "cell_type": "markdown",
   "metadata": {},
   "source": [
    "`beam_width`:\n",
    "- Número de secuencias que se mantienen en cada paso.\n",
    "- Un valor mayor permite más exploración, pero también es más costoso computacionalmente.\n",
    "\n",
    "`temperature`:\n",
    "- Suaviza la distribución de salida.\n",
    "- Valores más altos → más aleatoriedad.\n",
    "- Valores bajos → decisiones más deterministas.\n",
    "\n",
    "`num_steps`:\n",
    "- Longitud total del texto a generar (en número de caracteres)."
   ]
  },
  {
   "cell_type": "markdown",
   "metadata": {},
   "source": [
    "#### Lógica de generación paso a paso"
   ]
  },
  {
   "cell_type": "markdown",
   "metadata": {},
   "source": [
    "1. Se parte del **prompt inicial**, convertido a IDs.\n",
    "2. En cada paso:\n",
    "   - Se generan predicciones para todas las secuencias vivas.\n",
    "   - Se seleccionan las mejores combinaciones de secuencias y próximos caracteres.\n",
    "3. Al finalizar, se selecciona la mejor secuencia generada según la probabilidad acumulada."
   ]
  },
  {
   "cell_type": "markdown",
   "metadata": {},
   "source": [
    "#### Implementacion"
   ]
  },
  {
   "cell_type": "code",
   "execution_count": 24,
   "metadata": {},
   "outputs": [],
   "source": [
    "class BeamSearchGenerator:\n",
    "    def __init__(self, model, ids_from_chars, chars_from_ids, beam_width=3, temperature=1.0):\n",
    "        self.model = model\n",
    "        self.ids_from_chars = ids_from_chars\n",
    "        self.chars_from_ids = chars_from_ids\n",
    "        self.beam_width = beam_width\n",
    "        self.temperature = temperature\n",
    "\n",
    "        # Máscara para evitar el token [UNK]\n",
    "        skip_ids = self.ids_from_chars([\"[UNK]\"])[:, None]\n",
    "        sparse_mask = tf.SparseTensor(\n",
    "            indices=skip_ids,\n",
    "            values=[-float(\"inf\")] * len(skip_ids),\n",
    "            dense_shape=[len(self.ids_from_chars.get_vocabulary())]\n",
    "        )\n",
    "        self.prediction_mask = tf.sparse.to_dense(sparse_mask)\n",
    "\n",
    "    def generate(self, start_prompt, num_steps):\n",
    "        initial_state = None\n",
    "        initial_char = tf.constant([start_prompt])\n",
    "        beams = [(0.0, initial_state, initial_char)]\n",
    "\n",
    "        for _ in range(num_steps):\n",
    "            all_candidates = []\n",
    "\n",
    "            for log_prob, state, seq in beams:\n",
    "                # Paso 1: Convertimos el prompt a IDs\n",
    "                input_chars = tf.strings.unicode_split(seq, \"UTF-8\")\n",
    "                input_ids = self.ids_from_chars(input_chars).to_tensor()\n",
    "\n",
    "                # Paso 2: Ajustamos el estado como en OneStep\n",
    "                if state is not None:\n",
    "                    if isinstance(state, (tuple, list)) and len(state) == 1:\n",
    "                        state = state[0]\n",
    "                    if tf.rank(state) == 1:\n",
    "                        state = tf.expand_dims(state, 0)\n",
    "                    if tf.shape(state)[0] != tf.shape(input_ids)[0]:\n",
    "                        state = tf.tile(state, [tf.shape(input_ids)[0], 1])\n",
    "                    model_output = self.model(\n",
    "                        input_ids, states=(state,), return_state=True, training=False\n",
    "                    )\n",
    "                else:\n",
    "                    model_output = self.model(\n",
    "                        input_ids, return_state=True, training=False\n",
    "                    )\n",
    "\n",
    "                logits, new_state = model_output\n",
    "                if isinstance(new_state, (tuple, list)) and len(new_state) == 1:\n",
    "                    new_state = new_state[0]\n",
    "\n",
    "                # Paso 3: Último logit + temperatura + máscara\n",
    "                logits = logits[:, -1, :] / self.temperature\n",
    "                logits += self.prediction_mask\n",
    "                log_probs = tf.nn.log_softmax(logits)\n",
    "\n",
    "                # Paso 4: top-k predicciones\n",
    "                top_k_log_probs, top_k_ids = tf.math.top_k(log_probs, k=self.beam_width)\n",
    "\n",
    "                for i in range(self.beam_width):\n",
    "                    char_id = top_k_ids[0][i]\n",
    "                    char = self.chars_from_ids(char_id[tf.newaxis])\n",
    "                    new_seq = tf.strings.join([seq, char])\n",
    "                    new_log_prob = log_prob + top_k_log_probs[0][i].numpy()\n",
    "                    all_candidates.append((new_log_prob, new_state, new_seq))\n",
    "\n",
    "            # Paso 5: seleccionar los mejores k candidatos\n",
    "            all_candidates = sorted(all_candidates, key=lambda x: x[0], reverse=True)\n",
    "            beams = all_candidates[:self.beam_width]\n",
    "\n",
    "        # Secuencia más probable\n",
    "        best_sequence = beams[0][2]\n",
    "        return best_sequence.numpy()[0].decode(\"utf-8\")\n"
   ]
  },
  {
   "cell_type": "code",
   "execution_count": 25,
   "metadata": {},
   "outputs": [
    {
     "name": "stdout",
     "output_type": "stream",
     "text": [
      "📝 Texto generado con Beam Search:\n",
      "En un lugar de la Mancha; la\n",
      "cual, como vio que de algunos perdones historiador que tengo de vengar\n",
      "sus desventuras, ni aun con los martirios de la pereza, sino volvamos\n",
      "a estorbarlo, que la causa de las malas razones, ordenó de todos los dos días a\n",
      "los hombres. Digo esto, Sancho, porque en mí uno me hubiera muerto;\n",
      "porque no es bien que los caballeros andantes dan trastroso como vuestra\n",
      "merced, se vee en la silla de Babieca en la silla, de mi cuenta, tanto\n",
      "es el señor don Quijote, que debe de ser principal y riquezas.\n",
      "\n",
      "— No es menester mucho —dijo a esta sazón don Quijote—, que yo soy de la Mancha,\n",
      "cuyas hojas le entraron a don Quijote y a Sancho, a quien dio los diez escudos\n",
      "desotros.\n",
      "\n",
      "Digo, pues, que los diese en el suelo, y luego conocido y conservando en los\n",
      "moros de lágrimas y comenzaron a encomendarse a su contrario, y lo mesmo hizo el\n",
      "ausencia de don Quijote, y pusiéronse a caminar tras el carro. Y la\n",
      "honraba en el suelo, junto al primero que derribó la\n",
      "mula, a cuya luz le pudo ver don Quijote; y, lle\n"
     ]
    }
   ],
   "source": [
    "beam_generator = BeamSearchGenerator(\n",
    "    model,\n",
    "    ids_from_chars=ids_from_chars,\n",
    "    chars_from_ids=chars_from_ids,\n",
    "    beam_width=5,\n",
    "    temperature=0.5\n",
    ")\n",
    "\n",
    "prompt = \"En un lugar de la Mancha\"\n",
    "generated_text = beam_generator.generate(prompt, num_steps=1000)\n",
    "\n",
    "print(\"📝 Texto generado con Beam Search:\")\n",
    "print(generated_text)\n"
   ]
  },
  {
   "cell_type": "code",
   "execution_count": 26,
   "metadata": {},
   "outputs": [
    {
     "name": "stdout",
     "output_type": "stream",
     "text": [
      "📝 Texto generado con Beam Search:\n",
      "En un lugar de la Mancha; la\n",
      "cual, como vio que de algunos perdones historiador que tengo de vengar\n",
      "sus desventuras, ni aun con los martirios de la pereza, sino volvamos\n",
      "a estorbarlo, que la causa de las malas razones, ordenó de todos los dos días a\n",
      "los hombres. Digo esto, Sancho, porque bien me servía desta manera:\n",
      "\n",
      "\n",
      "\n",
      "\n",
      "Capítulo XXXIX. Donde el cautivo cuenta su vida y sucesos\n",
      "\n",
      "— «En un lugar de las Montañas de León tuvo principio mi linaje, con quien\n",
      "fue más agradecida y liberal la naturaleza que la fortuna, aunque, en la\n",
      "estrecheza de mi deseo, soy don Quijote, que se halló en él una hora, y el\n",
      "cura le había prometido que le echare de ver la entena de los reyes, esperaban los\n",
      "mozos de plata; el cual, como llegó con la duquesa a las piernas de\n",
      "Rocinante y de su rostro, con cuyo suceso que debía de estar encantado,\n",
      "con las mejores razones que con él estaban espírituvemente. En efeto nuestro\n",
      "lugar, tornó a dar señales de saberse y de color todo lo que pasaba, y le\n",
      "pidió que la pusiese en cobro, o que se ausent\n"
     ]
    }
   ],
   "source": [
    "beam_generator = BeamSearchGenerator(\n",
    "    model,\n",
    "    ids_from_chars=ids_from_chars,\n",
    "    chars_from_ids=chars_from_ids,\n",
    "    beam_width=3,\n",
    "    temperature=0.8\n",
    ")\n",
    "\n",
    "prompt = \"En un lugar de la Mancha\"\n",
    "generated_text = beam_generator.generate(prompt, num_steps=1000)\n",
    "\n",
    "print(\"📝 Texto generado con Beam Search:\")\n",
    "print(generated_text)\n"
   ]
  },
  {
   "cell_type": "markdown",
   "metadata": {},
   "source": [
    "---"
   ]
  },
  {
   "cell_type": "markdown",
   "metadata": {},
   "source": [
    "## Generación de texto  con `Greedy search`"
   ]
  },
  {
   "cell_type": "markdown",
   "metadata": {},
   "source": [
    "Greedy Search es un enfoque determinista para la generación de texto en el que, en cada paso, se selecciona el token con la mayor probabilidad de manera directa, sin explorar otras alternativas. Esto puede resultar en salidas muy coherentes, aunque a veces menos diversas.\n",
    "\n",
    "#### ¿Qué es Greedy Search?\n",
    "- **Determinismo:** En cada paso se escoge el token más probable (usando `tf.argmax`), lo que produce resultados predecibles.\n",
    "- **Proceso:** Se parte de un prompt inicial y, en cada iteración, se actualiza la secuencia con el token seleccionado, manteniendo y actualizando el estado del modelo.\n",
    "- **Resultado:** Al finalizar un número determinado de pasos, se devuelve la secuencia completa generada.\n",
    "\n",
    "#### Parámetros Clave\n",
    "- **Temperature:** Ajusta la suavidad de la distribución de probabilidad. Con valores bajos la salida es aún más determinista.\n",
    "- **num_steps:** Número total de tokens (o caracteres) a generar.\n",
    "- **Estado:** Se actualiza en cada paso para conservar el contexto de la secuencia.\n",
    "\n",
    "#### Lógica de Generación Paso a Paso\n",
    "1. **Inicio:** Convertir el prompt inicial a IDs y establecer el estado inicial en `None`.\n",
    "2. **Iteración:**  \n",
    "   - Pasar la secuencia actual y el estado al modelo para obtener los logits y el nuevo estado.\n",
    "   - Aplicar la temperatura (dividiendo los logits) y sumar una máscara (para evitar tokens indeseados, como `[UNK]`).\n",
    "   - Seleccionar el token con la mayor probabilidad usando `tf.argmax`.\n",
    "   - Convertir el token a su representación en texto y añadirlo a la secuencia.\n",
    "3. **Finalización:** Después de `num_steps`, unir los tokens generados y devolver el texto final."
   ]
  },
  {
   "cell_type": "markdown",
   "metadata": {},
   "source": [
    "#### Implementación"
   ]
  },
  {
   "cell_type": "code",
   "execution_count": 32,
   "metadata": {},
   "outputs": [],
   "source": [
    "class GreedySearchGenerator:\n",
    "    def __init__(self, model, ids_from_chars, chars_from_ids, temperature=1.0):\n",
    "        self.model = model\n",
    "        self.ids_from_chars = ids_from_chars\n",
    "        self.chars_from_ids = chars_from_ids\n",
    "        self.temperature = temperature\n",
    "\n",
    "        # Máscara para evitar generar el token [UNK]\n",
    "        skip_ids = self.ids_from_chars([\"[UNK]\"])[:, None]\n",
    "        num_skip_ids = int(tf.shape(skip_ids)[0])\n",
    "        sparse_mask = tf.SparseTensor(\n",
    "            indices=skip_ids,\n",
    "            values=[-float(\"inf\")] * num_skip_ids,\n",
    "            dense_shape=[len(self.ids_from_chars.get_vocabulary())]\n",
    "        )\n",
    "        self.prediction_mask = tf.sparse.to_dense(sparse_mask)\n",
    "\n",
    "    def generate(self, start_prompt, num_steps):\n",
    "        # Convertir el prompt inicial a un tensor\n",
    "        input_text = tf.constant([start_prompt])\n",
    "        state = None\n",
    "        result = [input_text]\n",
    "\n",
    "        for _ in range(num_steps):\n",
    "            # Convertir el texto actual a IDs\n",
    "            input_chars = tf.strings.unicode_split(input_text, \"UTF-8\")\n",
    "            input_ids = self.ids_from_chars(input_chars).to_tensor()\n",
    "\n",
    "            # Ajustamos el estado si ya existe\n",
    "            if state is not None:\n",
    "                if isinstance(state, (tuple, list)) and len(state) == 1:\n",
    "                    state = state[0]\n",
    "                if tf.rank(state) == 1:\n",
    "                    state = tf.expand_dims(state, 0)\n",
    "                if tf.shape(state)[0] != tf.shape(input_ids)[0]:\n",
    "                    state = tf.tile(state, [tf.shape(input_ids)[0], 1])\n",
    "                logits, state = self.model(input_ids, states=(state,), return_state=True, training=False)\n",
    "            else:\n",
    "                logits, state = self.model(input_ids, return_state=True, training=False)\n",
    "\n",
    "            # Tomamos el logit del último paso, aplicamos temperatura y máscara\n",
    "            logits = logits[:, -1, :] / self.temperature\n",
    "            logits += self.prediction_mask\n",
    "\n",
    "            # Seleccionamos el token con mayor probabilidad (greedy)\n",
    "            next_id = tf.argmax(logits, axis=-1, output_type=tf.int32)\n",
    "            next_char = self.chars_from_ids(next_id)\n",
    "\n",
    "            # Actualizamos el input y acumulamos el resultado\n",
    "            input_text = tf.strings.join([input_text, next_char])\n",
    "            result.append(next_char)\n",
    "\n",
    "        # Convertimos la secuencia generada a string\n",
    "        return tf.strings.join(result).numpy()[0].decode(\"utf-8\")\n"
   ]
  },
  {
   "cell_type": "code",
   "execution_count": 34,
   "metadata": {},
   "outputs": [
    {
     "name": "stdout",
     "output_type": "stream",
     "text": [
      "📝 Texto generado con Greedy Search:\n",
      "En un lugar de la Mancha; la\n",
      "cual, como vio que de algunos perdones historiador que tengo de vengar\n",
      "sus desventuras, ni aun con los martirios de la pereza, sino volvamos a\n",
      "estar solo entre los moros que a mí y a este rey en dineros en esta grande\n",
      "historia que no quiere decir en ella millares de otro mal a ninguno.\n",
      "\n",
      "— Pues lo mesmo —dijo don Quijote— porque no ha sido suya ser emperador, y verá\n",
      "que se me dé a mí por ocho día, y es de más imaginaciones y\n",
      "demasiadoles cada mes''. Y tú, Sancho, cuanto más, habiendo hecho\n",
      "estos días que te han de alcanzar el vato.\n",
      "\n",
      "— En esta invención de la historia —respondió Sancho Panza—, sólo sé decir que\n",
      "si de las noches vale ostende esta nuestra cédula y en la opinión\n",
      "de don Quijote.\n",
      "\n",
      "— Así me parece a mí —respondió Cardenio—, porque, según da indicio, él\n",
      "tiene por cierto que todo lo que estos libros cuentan pasó ni más ni menos\n",
      "que lo escriben, y no le harán creer otra cosa frailes descalzos.\n",
      "— Mentís con pie de pagarla se puede y debe de ser —respondió Sancho—, porque mi c\n"
     ]
    }
   ],
   "source": [
    "greedy_generator = GreedySearchGenerator(\n",
    "    model,\n",
    "    ids_from_chars=ids_from_chars,\n",
    "    chars_from_ids=chars_from_ids,\n",
    "    temperature=0.8\n",
    ")\n",
    "\n",
    "prompt = \"En un lugar de la Mancha\"\n",
    "generated_text = greedy_generator.generate(prompt, num_steps=1000)\n",
    "\n",
    "print(\"📝 Texto generado con Greedy Search:\")\n",
    "print(generated_text)"
   ]
  },
  {
   "cell_type": "markdown",
   "metadata": {},
   "source": [
    "\n",
    "---"
   ]
  },
  {
   "cell_type": "markdown",
   "metadata": {},
   "source": [
    "## Generación de texto  con `Top-k Sampling`"
   ]
  },
  {
   "cell_type": "markdown",
   "metadata": {},
   "source": [
    "Top-k Sampling es una técnica que, en cada paso, restringe el muestreo al conjunto de los *k* tokens con mayor probabilidad. Este método permite mantener una salida coherente al limitar las opciones a las más probables, pero a la vez introduce diversidad al muestrear de forma aleatoria entre estas opciones.\n",
    "\n",
    "#### ¿Qué es Top-k Sampling?\n",
    "- **Restricción:** En cada paso se consideran únicamente los *k* tokens con mayores probabilidades.\n",
    "- **Diversidad Controlada:** Aunque se muestrea de forma aleatoria, limitar el conjunto a los *k* mejores candidatos tiende a producir salidas coherentes.\n",
    "- **Proceso:** Se parte del prompt inicial y, en cada iteración, se:\n",
    "  - Genera la distribución de probabilidad para el siguiente token.\n",
    "  - Extrae los *k* tokens con mayor probabilidad.\n",
    "  - Aplica softmax a estos valores para obtener una distribución normalizada.\n",
    "  - Muestrea aleatoriamente un token de este conjunto restringido.\n",
    "  - Actualiza la secuencia y el estado del modelo.\n",
    "\n",
    "#### Parámetros Clave\n",
    "- **k (Top-k):** Número de tokens candidatos a considerar en cada paso. Valores moderados (por ejemplo, entre 10 y 20) suelen equilibrar coherencia y diversidad.\n",
    "- **Temperature:** Ajusta la distribución de probabilidades; valores cercanos a 1 mantienen un balance, mientras que valores menores la hacen más determinista.\n",
    "- **num_steps:** Número total de tokens a generar.\n",
    "- **Estado:** Se actualiza a lo largo de la generación para conservar el contexto.\n",
    "\n",
    "#### Lógica de Generación Paso a Paso\n",
    "1. **Inicio:** Convertir el prompt inicial a IDs y definir el estado inicial en `None`.\n",
    "2. **Iteración:**  \n",
    "   - Alimentar la secuencia actual (junto con el estado, si existe) al modelo para obtener los logits y el nuevo estado.\n",
    "   - Extraer los logits del último token, aplicar la temperatura y la máscara.\n",
    "   - Utilizar `tf.math.top_k` para obtener los *k* tokens con mayores probabilidades y sus respectivos valores.\n",
    "   - Calcular la distribución softmax de estos valores y muestrear un token aleatoriamente de entre ellos.\n",
    "   - Convertir el token muestreado a texto y actualizar la secuencia y el estado.\n",
    "3. **Finalización:** Al completar `num_steps`, unir todos los tokens generados y devolver la secuencia final.\n"
   ]
  },
  {
   "cell_type": "markdown",
   "metadata": {},
   "source": [
    "#### Implementación"
   ]
  },
  {
   "cell_type": "code",
   "execution_count": 35,
   "metadata": {},
   "outputs": [],
   "source": [
    "class TopKSampler:\n",
    "    def __init__(self, model, ids_from_chars, chars_from_ids, k=10, temperature=1.0):\n",
    "        self.model = model\n",
    "        self.ids_from_chars = ids_from_chars\n",
    "        self.chars_from_ids = chars_from_ids\n",
    "        self.k = k\n",
    "        self.temperature = temperature\n",
    "\n",
    "        # Máscara para evitar generar el token [UNK]\n",
    "        skip_ids = self.ids_from_chars([\"[UNK]\"])[:, None]\n",
    "        num_skip_ids = int(tf.shape(skip_ids)[0])\n",
    "        sparse_mask = tf.SparseTensor(\n",
    "            indices=skip_ids,\n",
    "            values=[-float(\"inf\")] * num_skip_ids,\n",
    "            dense_shape=[len(self.ids_from_chars.get_vocabulary())]\n",
    "        )\n",
    "        self.prediction_mask = tf.sparse.to_dense(sparse_mask)\n",
    "\n",
    "    def generate(self, start_prompt, num_steps):\n",
    "        # Inicializamos con el prompt y estado nulo\n",
    "        input_text = tf.constant([start_prompt])\n",
    "        state = None\n",
    "        result = [input_text]\n",
    "\n",
    "        for _ in range(num_steps):\n",
    "            # Convertimos el texto actual a IDs\n",
    "            input_chars = tf.strings.unicode_split(input_text, \"UTF-8\")\n",
    "            input_ids = self.ids_from_chars(input_chars).to_tensor()\n",
    "\n",
    "            # Ajustamos el estado si ya existe\n",
    "            if state is not None:\n",
    "                if isinstance(state, (tuple, list)) and len(state) == 1:\n",
    "                    state = state[0]\n",
    "                if tf.rank(state) == 1:\n",
    "                    state = tf.expand_dims(state, 0)\n",
    "                if tf.shape(state)[0] != tf.shape(input_ids)[0]:\n",
    "                    state = tf.tile(state, [tf.shape(input_ids)[0], 1])\n",
    "                logits, state = self.model(input_ids, states=(state,), return_state=True, training=False)\n",
    "            else:\n",
    "                logits, state = self.model(input_ids, return_state=True, training=False)\n",
    "\n",
    "            # Tomamos los logits del último paso, aplicamos temperatura y máscara\n",
    "            logits = logits[:, -1, :] / self.temperature\n",
    "            logits += self.prediction_mask\n",
    "\n",
    "            # Extraemos los top-k tokens\n",
    "            topk_values, topk_ids = tf.math.top_k(logits, k=self.k)\n",
    "            # Convertimos los valores a probabilidades\n",
    "            topk_probs = tf.nn.softmax(topk_values)\n",
    "\n",
    "            # Muestreamos de la distribución top-k (usando logaritmos para estabilidad numérica)\n",
    "            # tf.random.categorical requiere logits; por ello, aplicamos tf.math.log a topk_probs\n",
    "            sampled = tf.random.categorical(tf.math.log(topk_probs), num_samples=1)\n",
    "            sampled = tf.squeeze(sampled, axis=-1)  # forma: [batch_size] (batch_size=1)\n",
    "\n",
    "            # Obtenemos el token real a partir de topk_ids\n",
    "            selected_token = tf.gather(topk_ids, sampled, axis=1)\n",
    "            next_id = tf.squeeze(selected_token, axis=0)\n",
    "            next_char = self.chars_from_ids(next_id)\n",
    "\n",
    "            # Actualizamos el prompt y acumulamos el resultado\n",
    "            input_text = tf.strings.join([input_text, next_char])\n",
    "            result.append(next_char)\n",
    "\n",
    "        return tf.strings.join(result).numpy()[0].decode(\"utf-8\")\n"
   ]
  },
  {
   "cell_type": "code",
   "execution_count": 37,
   "metadata": {},
   "outputs": [
    {
     "name": "stdout",
     "output_type": "stream",
     "text": [
      "📝 Texto generado con Top-k Sampling:\n",
      "En un lugar de la Mancha, de\n",
      "Montemano, colmándole por el gobierno y a las manos, me puso al lecho y dejamos, conservando, y\n",
      "mata, ya por hombre de todo se torna a dormir entrambos. Tenía el viaje conoció a\n",
      "las Indias, las cuales comprarían ya conocida, y con voz baja le\n",
      "vendía, y descubrió con la mujer de Sancho, y aun la mitad del\n",
      "camino, sin saber lo que don Quijote hacía servido de darle era de\n",
      "camino, en la pelea, atrevido y malfrejale, todo amor y mozo, ni mucha\n",
      "descolgada en los de la maleta.\n",
      "Como sois el ventero, a quien don Quijote la si, ye\n",
      "doba, por hacerle perfecio de responder que se estaba en Bayzar, que no le\n",
      "desampare.\n",
      "\n",
      "»— No quiero pagar —respondió Sancho— que los presentes están llenas destas siestas, tanta\n",
      "filesicordia hecha y de diamantes, y padé antes caballeros andantes en\n",
      "el diablo, como lo sates; y, por no ser armado caballero, no ponga los poetas\n",
      "que son muchos los pensamientos que en punta de las fueves a la\n",
      "galancha? ¿Qué mayor traje? ¡Ea, pues es il pradicario, y él se la dará en\n",
      "l\n"
     ]
    }
   ],
   "source": [
    "topk_sampler = TopKSampler(\n",
    "    model,\n",
    "    ids_from_chars=ids_from_chars,\n",
    "    chars_from_ids=chars_from_ids,\n",
    "    k=10,           # Puedes ajustar k; valores moderados (10-20) suelen dar buena coherencia\n",
    "    temperature=1.0 # Temperatura cercana a 1 para mantener la diversidad\n",
    ")\n",
    "\n",
    "prompt = \"En un lugar de la Mancha\"\n",
    "generated_text = topk_sampler.generate(prompt, num_steps=1000)\n",
    "\n",
    "print(\"📝 Texto generado con Top-k Sampling:\")\n",
    "print(generated_text)"
   ]
  },
  {
   "cell_type": "code",
   "execution_count": 45,
   "metadata": {},
   "outputs": [
    {
     "name": "stdout",
     "output_type": "stream",
     "text": [
      "📝 Texto generado con Top-k Sampling:\n",
      "En un lugar de la Mancha, a\n",
      "quien tocaba una guitarra que la que se dice que se detuviera, y el maestresala pon\n",
      "otros sucesos de aquellos que las tenga y contingea la república,\n",
      "porque todos se acomodasen a la mañana, en que se entretiene.\n",
      "\n",
      "Nuevo este negocio estaba puesta la mano y la conforme a los parientes\n",
      "del bosque, contra el uso de los pies de don Quijote, y ella, la más rara\n",
      "habilidad es que nos libre autendían a sus camasarnes; las colas, llenos de\n",
      "enemigos, y otras tantas verdades, les dijesen: costumbre en\n",
      "riscones y su escudero, yo me sace a subir sobre una serpiente en que\n",
      "la guerra que aquel a ciento de enamorado. Y si no fuese porque\n",
      "imagino..., ¿qué digo imagino?, sé muy cierto, que todas estas\n",
      "incomodidades son muy anejas al ejercicio de las armas, aquí me dejaría\n",
      "morir de puro enojo.\n",
      "\n",
      "A esto replicó el escudero:\n",
      "\n",
      "— Señor, ya se sobró quisiere, si no han oído decir voluntad al caso, a quien te\n",
      "tengo puesto en aquella sazón a cosa de tan grandes es como los demás, sino\n",
      "has de ser verdaderas co\n"
     ]
    }
   ],
   "source": [
    "topk_sampler = TopKSampler(\n",
    "    model,\n",
    "    ids_from_chars=ids_from_chars,\n",
    "    chars_from_ids=chars_from_ids,\n",
    "    k=30,           \n",
    "    temperature=0.7\n",
    ")\n",
    "\n",
    "prompt = \"En un lugar de la Mancha\"\n",
    "generated_text = topk_sampler.generate(prompt, num_steps=1000)\n",
    "\n",
    "print(\"📝 Texto generado con Top-k Sampling:\")\n",
    "print(generated_text)"
   ]
  }
 ],
 "metadata": {
  "kernelspec": {
   "display_name": ".env",
   "language": "python",
   "name": "python3"
  },
  "language_info": {
   "codemirror_mode": {
    "name": "ipython",
    "version": 3
   },
   "file_extension": ".py",
   "mimetype": "text/x-python",
   "name": "python",
   "nbconvert_exporter": "python",
   "pygments_lexer": "ipython3",
   "version": "3.10.12"
  }
 },
 "nbformat": 4,
 "nbformat_minor": 2
}
